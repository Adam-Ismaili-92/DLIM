{
 "cells": [
  {
   "cell_type": "markdown",
   "id": "2a96029c",
   "metadata": {
    "origin_pos": 0
   },
   "source": [
    "# Single Shot Multibox Detection\n",
    "\n",
    "We previously introduced bounding boxes, anchor boxes,\n",
    "multiscale object detection, and the dataset for object detection.\n",
    "Now we are ready to use such background\n",
    "knowledge to design an object detection model:\n",
    "[single shot multibox detection\n",
    "(SSD)](https://arxiv.org/abs/1512.02325).\n",
    "This model is simple, fast, and widely used.\n",
    "Although this is just one of vast amounts of\n",
    "object detection models,\n",
    "some of the design principles\n",
    "and implementation details in this section\n",
    "are also applicable to other models."
   ]
  },
  {
   "cell_type": "markdown",
   "id": "c58f99d1",
   "metadata": {},
   "source": [
    "\n",
    "## Model\n",
    "\n",
    "The figure below provides an overview of\n",
    "the design of single-shot multibox detection.\n",
    "This model mainly consists of\n",
    "a base network\n",
    "followed by\n",
    "several multiscale feature map blocks.\n",
    "The base network\n",
    "is for extracting features from the input image,\n",
    "so it can use a deep CNN.\n",
    "For example,\n",
    "the [original single-shot multibox detection paper](https://arxiv.org/abs/1512.02325)\n",
    "adopts a VGG network truncated before the\n",
    "classification layer,\n",
    "while ResNet has also been commonly used.\n",
    "Through our design\n",
    "we can make the base network output\n",
    "larger feature maps\n",
    "so as to generate more anchor boxes\n",
    "for detecting smaller objects.\n",
    "Subsequently,\n",
    "each multiscale feature map block\n",
    "reduces (e.g., by half)\n",
    "the height and width of the feature maps\n",
    "from the previous block,\n",
    "and enables each unit\n",
    "of the feature maps\n",
    "to increase its receptive field on the input image.\n",
    "\n",
    "\n",
    "Recall the design\n",
    "of multiscale object detection\n",
    "through layerwise representations of images by\n",
    "deep neural networks\n",
    "in [Part 3](./03-multiscale-object-detection-student.ipynb).\n",
    "Since\n",
    "multiscale feature maps (the ones closer to the top of the figure below)\n",
    "are smaller but have larger receptive fields,\n",
    "they are suitable for detecting\n",
    "fewer but larger objects.\n",
    "\n",
    "In a nutshell,\n",
    "via its base network and several multiscale feature map blocks,\n",
    "single-shot multibox detection\n",
    "generates a varying number of anchor boxes with different sizes,\n",
    "and detects varying-size objects\n",
    "by predicting classes and offsets\n",
    "of these anchor boxes (thus the bounding boxes);\n",
    "thus, this is a multiscale object detection model.\n",
    "\n",
    "\n",
    "![As a multiscale object detection model, single-shot multibox detection mainly consists of a base network followed by several multiscale feature map blocks.](https://raw.githubusercontent.com/d2l-ai/d2l-en/e4f0ed18d9d83cd35434404daaf7ffc9631b5ece/img/ssd.svg)\n",
    "\n",
    "\n",
    "In the following,\n",
    "we will describe the implementation details\n",
    "of different blocks in the previous figure. To begin with, we discuss how to implement\n",
    "the class and bounding box prediction.\n",
    "\n",
    "\n"
   ]
  },
  {
   "cell_type": "markdown",
   "id": "a21c325a",
   "metadata": {},
   "source": [
    "\n",
    "### Class Prediction Layer\n",
    "\n",
    "Let the number of object classes be $q$.\n",
    "Then **anchor boxes have $q+1$ classes,\n",
    "where class 0 is background**.\n",
    "At some scale,\n",
    "suppose that the height and width of feature maps\n",
    "are $h$ and $w$, respectively.\n",
    "When $a$ anchor boxes\n",
    "are generated with\n",
    "each spatial position of these feature maps as their center,\n",
    "a total of $hwa$ anchor boxes need to be classified.\n",
    "This often makes classification with fully connected layers infeasible due to likely\n",
    "heavy parametrization costs.\n",
    "Instead, it is common to use channels of\n",
    "convolutional layers to predict classes.\n",
    "Single-shot multibox detection uses the\n",
    "same technique to reduce model complexity.\n",
    "\n",
    "Specifically,\n",
    "the class prediction layer uses a convolutional layer\n",
    "without altering width or height of feature maps.\n",
    "In this way,\n",
    "there can be a one-to-one correspondence\n",
    "between outputs and inputs\n",
    "at the same spatial dimensions (width and height)\n",
    "of feature maps.\n",
    "More concretely,\n",
    "channels of the output feature maps\n",
    "at any spatial position ($x$, $y$)\n",
    "represent class predictions\n",
    "for all the anchor boxes centered on\n",
    "($x$, $y$) of the input feature maps.\n",
    "To produce valid predictions,\n",
    "there must be **$a(q+1)$ output channels**,\n",
    "where for the same spatial position\n",
    "the output channel with index $i(q+1) + j$\n",
    "represents the prediction of\n",
    "the class $j$ ($0 \\leq j \\leq q$)\n",
    "for the anchor box $i$ ($0 \\leq i < a$).\n",
    "\n",
    "Below we define such a class prediction layer,\n",
    "specifying $a$ and $q$ via arguments `num_anchors` and `num_classes`, respectively.\n",
    "This layer uses a $3\\times3$ convolutional layer with a\n",
    "padding of 1.\n",
    "The width and height of the input and output of this\n",
    "convolutional layer remain unchanged.\n"
   ]
  },
  {
   "cell_type": "code",
   "execution_count": null,
   "id": "ddad6013",
   "metadata": {
    "origin_pos": 2,
    "tab": [
     "pytorch"
    ]
   },
   "outputs": [],
   "source": [
    "%matplotlib inline\n",
    "import torch\n",
    "import torchvision\n",
    "from torch import nn\n",
    "from torch.nn import functional as F\n",
    "from d2l import torch as d2l"
   ]
  },
  {
   "cell_type": "markdown",
   "id": "53596685",
   "metadata": {},
   "source": [
    "### Your turn\n",
    "> Complete the code of the `cls_predictor` function below.\n",
    "> \n",
    "> Return a simple `Conv2d` layer with the appropriate number of inputs and outputs.\n",
    ">\n",
    "> Use a `kernel_size` of 3 and set the `padding` to 1 to preserve image size."
   ]
  },
  {
   "cell_type": "code",
   "execution_count": null,
   "id": "996445d6",
   "metadata": {},
   "outputs": [],
   "source": [
    "def cls_predictor(num_inputs, num_anchors, num_classes):\n",
    "    return nn.Conv2d(????)"
   ]
  },
  {
   "cell_type": "code",
   "execution_count": null,
   "id": "ac090a45",
   "metadata": {
    "tags": [
     "TEACHER"
    ]
   },
   "outputs": [],
   "source": [
    "# TEACHER\n",
    "def cls_predictor(num_inputs, num_anchors, num_classes):\n",
    "    return nn.Conv2d(num_inputs, num_anchors * (num_classes + 1),\n",
    "                     kernel_size=3, padding=1)"
   ]
  },
  {
   "cell_type": "markdown",
   "id": "1d31cb46",
   "metadata": {
    "origin_pos": 3
   },
   "source": [
    "### **Bounding Box Prediction Layer**\n",
    "\n",
    "The design of the bounding box prediction layer is similar to that of the class prediction layer.\n",
    "The only difference lies in the number of outputs for each anchor box:\n",
    "here we need to predict four offsets rather than $q+1$ classes.\n"
   ]
  },
  {
   "cell_type": "markdown",
   "id": "9c919064",
   "metadata": {},
   "source": [
    "### Your turn\n",
    "> Complete the code of the `bbox_predictor` function below.\n",
    "> \n",
    "> Return a simple `Conv2d` layer with the appropriate number of inputs and outputs.\n",
    ">\n",
    "> Use a `kernel_size` of 3 and set the `padding` to 1 to preserve image size."
   ]
  },
  {
   "cell_type": "code",
   "execution_count": null,
   "id": "1c16f3a5",
   "metadata": {
    "origin_pos": 5,
    "tab": [
     "pytorch"
    ],
    "tags": []
   },
   "outputs": [],
   "source": [
    "def bbox_predictor(num_inputs, num_anchors):\n",
    "    return nn.Conv2d(????)"
   ]
  },
  {
   "cell_type": "code",
   "execution_count": null,
   "id": "91984175",
   "metadata": {},
   "outputs": [],
   "source": [
    "# TEACHER\n",
    "def bbox_predictor(num_inputs, num_anchors):\n",
    "    return nn.Conv2d(num_inputs, num_anchors * 4, kernel_size=3, padding=1)"
   ]
  },
  {
   "cell_type": "markdown",
   "id": "68506c13",
   "metadata": {
    "origin_pos": 6
   },
   "source": [
    "### Concatenating Predictions for Multiple Scales\n",
    "\n",
    "As we mentioned, single-shot multibox detection\n",
    "uses multiscale feature maps to generate anchor boxes and predict their classes and offsets.\n",
    "At different scales,\n",
    "the shapes of feature maps\n",
    "or the numbers of anchor boxes centered on the same unit\n",
    "may vary.\n",
    "Therefore,\n",
    "shapes of the prediction outputs\n",
    "at different scales may vary.\n",
    "\n",
    "In the following example,\n",
    "we construct feature maps at two different scales,\n",
    "`Y1` and `Y2`,\n",
    "for the same minibatch,\n",
    "where the height and width of `Y2`\n",
    "are half of those of `Y1`.\n",
    "Let's take class prediction as an example.\n",
    "Suppose that\n",
    "5 and 3 anchor boxes\n",
    "are generated for every unit in `Y1` and `Y2`, respectively.\n",
    "Suppose further that\n",
    "the number of object classes is 10.\n",
    "For feature maps `Y1` and `Y2`\n",
    "the numbers of channels in the class prediction outputs\n",
    "are $5\\times(10+1)=55$ and $3\\times(10+1)=33$, respectively,\n",
    "where either output shape is\n",
    "(batch size, number of channels, height, width).\n"
   ]
  },
  {
   "cell_type": "code",
   "execution_count": null,
   "id": "63fcc574",
   "metadata": {
    "origin_pos": 8,
    "tab": [
     "pytorch"
    ]
   },
   "outputs": [],
   "source": [
    "def forward(x, block):\n",
    "    return block(x)\n",
    "\n",
    "Y1 = forward(torch.zeros((2, 8, 20, 20)), cls_predictor(8, 5, 10))\n",
    "Y2 = forward(torch.zeros((2, 16, 10, 10)), cls_predictor(16, 3, 10))\n",
    "Y1.shape, Y2.shape"
   ]
  },
  {
   "cell_type": "markdown",
   "id": "e94c1d55",
   "metadata": {
    "origin_pos": 9
   },
   "source": [
    "As we can see, except for the batch size dimension,\n",
    "the other three dimensions all have different sizes.\n",
    "To concatenate these two prediction outputs for more efficient computation,\n",
    "we will transform these tensors into a more consistent format.\n",
    "\n",
    "Note that\n",
    "the channel dimension holds the predictions for\n",
    "anchor boxes with the same center.\n",
    "We first move this dimension to the innermost (last).\n",
    "Since the batch size remains the same for different scales,\n",
    "we can transform the prediction output\n",
    "into a two-dimensional tensor\n",
    "with shape (batch size, height $\\times$ width $\\times$ number of channels).\n",
    "Then we can concatenate\n",
    "such outputs at different scales\n",
    "along dimension 1.\n"
   ]
  },
  {
   "cell_type": "code",
   "execution_count": null,
   "id": "2f0d32e4",
   "metadata": {
    "origin_pos": 11,
    "tab": [
     "pytorch"
    ]
   },
   "outputs": [],
   "source": [
    "def flatten_pred(pred):\n",
    "    return torch.flatten(pred.permute(0, 2, 3, 1), start_dim=1)\n",
    "\n",
    "def concat_preds(preds):\n",
    "    return torch.cat([flatten_pred(p) for p in preds], dim=1)"
   ]
  },
  {
   "cell_type": "markdown",
   "id": "c3b25c1b",
   "metadata": {
    "origin_pos": 12
   },
   "source": [
    "In this way,\n",
    "even though `Y1` and `Y2` have different sizes\n",
    "in channels, heights, and widths,\n",
    "we can still concatenate these two prediction outputs at two different scales for the same minibatch.\n"
   ]
  },
  {
   "cell_type": "code",
   "execution_count": null,
   "id": "e51526a4",
   "metadata": {
    "origin_pos": 13,
    "tab": [
     "pytorch"
    ]
   },
   "outputs": [],
   "source": [
    "concat_preds([Y1, Y2]).shape"
   ]
  },
  {
   "cell_type": "markdown",
   "id": "a8e26443",
   "metadata": {
    "origin_pos": 14
   },
   "source": [
    "### Downsampling Block\n",
    "\n",
    "In order to detect objects at multiple scales,\n",
    "we define the following downsampling block `down_sample_blk` that\n",
    "halves the height and width of input feature maps.\n",
    "In fact,\n",
    "this block applies the design of VGG blocks.\n",
    "More concretely,\n",
    "each downsampling block consists of\n",
    "two $3\\times3$ convolutional layers with padding of 1\n",
    "followed by a $2\\times2$ max-pooling layer with stride of 2.\n",
    "As we know, $3\\times3$ convolutional layers with padding of 1 do not change the shape of feature maps.\n",
    "However, the subsequent $2\\times2$ max-pooling  reduces the height and width of input feature maps by half.\n",
    "For both input and output feature maps of this downsampling block,\n",
    "because $1\\times 2+(3-1)+(3-1)=6$,\n",
    "each unit in the output\n",
    "has a $6\\times6$ receptive field on the input.\n",
    "Therefore, the downsampling block enlarges the receptive field of each unit in its output feature maps.\n"
   ]
  },
  {
   "cell_type": "markdown",
   "id": "0982ce31",
   "metadata": {},
   "source": [
    "### Your turn\n",
    "> Complete the code of the `down_sample_blk` function below.\n",
    "> \n",
    "> Configure the `Conv2d` and `MaxPool2d` layer according to the previous explanations.\n",
    ">\n",
    "> Use a `3×3` kernel for the convolution and preserve image size with appropriate padding."
   ]
  },
  {
   "cell_type": "code",
   "execution_count": null,
   "id": "4445ba07",
   "metadata": {
    "origin_pos": 16,
    "tab": [
     "pytorch"
    ]
   },
   "outputs": [],
   "source": [
    "def down_sample_blk(in_channels, out_channels):\n",
    "    blk = []\n",
    "    for _ in range(2):\n",
    "        blk.append(nn.Conv2d(????))\n",
    "        blk.append(nn.BatchNorm2d(out_channels))\n",
    "        blk.append(nn.ReLU())\n",
    "        in_channels = out_channels\n",
    "    blk.append(nn.MaxPool2d(????))\n",
    "    return nn.Sequential(*blk)"
   ]
  },
  {
   "cell_type": "code",
   "execution_count": null,
   "id": "cbf1e7f5",
   "metadata": {
    "tags": [
     "TEACHER"
    ]
   },
   "outputs": [],
   "source": [
    "# TEACHER\n",
    "def down_sample_blk(in_channels, out_channels):\n",
    "    blk = []\n",
    "    for _ in range(2):\n",
    "        blk.append(nn.Conv2d(in_channels, out_channels,\n",
    "                             kernel_size=3, padding=1))\n",
    "        blk.append(nn.BatchNorm2d(out_channels))\n",
    "        blk.append(nn.ReLU())\n",
    "        in_channels = out_channels\n",
    "    blk.append(nn.MaxPool2d(2))\n",
    "    return nn.Sequential(*blk)"
   ]
  },
  {
   "cell_type": "markdown",
   "id": "a5c50576",
   "metadata": {
    "origin_pos": 17
   },
   "source": [
    "In the following example, our constructed downsampling block changes the number of input channels and halves the height and width of the input feature maps.\n"
   ]
  },
  {
   "cell_type": "code",
   "execution_count": null,
   "id": "447a17df",
   "metadata": {
    "origin_pos": 19,
    "tab": [
     "pytorch"
    ]
   },
   "outputs": [],
   "source": [
    "forward(torch.zeros((2, 3, 20, 20)), down_sample_blk(3, 10)).shape"
   ]
  },
  {
   "cell_type": "markdown",
   "id": "adb5668e",
   "metadata": {
    "origin_pos": 20
   },
   "source": [
    "### Base Network Block\n",
    "\n",
    "The base network block is used to extract features from input images.\n",
    "For simplicity,\n",
    "we construct a small base network\n",
    "consisting of three downsampling blocks\n",
    "that double the number of channels at each block.\n",
    "Given a $256\\times256$ input image,\n",
    "this base network block outputs $32 \\times 32$ feature maps ($256/2^3=32$).\n"
   ]
  },
  {
   "cell_type": "code",
   "execution_count": null,
   "id": "58dbae9a",
   "metadata": {
    "origin_pos": 22,
    "tab": [
     "pytorch"
    ]
   },
   "outputs": [],
   "source": [
    "def base_net():\n",
    "    blk = []\n",
    "    num_filters = [3, 16, 32, 64]\n",
    "    for i in range(len(num_filters) - 1):\n",
    "        blk.append(down_sample_blk(num_filters[i], num_filters[i+1]))\n",
    "    return nn.Sequential(*blk)\n",
    "\n",
    "forward(torch.zeros((2, 3, 256, 256)), base_net()).shape"
   ]
  },
  {
   "cell_type": "markdown",
   "id": "635319fc",
   "metadata": {
    "origin_pos": 23
   },
   "source": [
    "### The Complete Model\n",
    "\n",
    "\n",
    "**The complete\n",
    "single shot multibox detection model\n",
    "consists of five blocks.**\n",
    "The feature maps produced by each block\n",
    "are used for both\n",
    "(i) generating anchor boxes\n",
    "and (ii) predicting classes and offsets of these anchor boxes.\n",
    "Among these five blocks,\n",
    "the first one\n",
    "is the base network block,\n",
    "the second to the fourth are\n",
    "downsampling blocks,\n",
    "and the last block\n",
    "uses global max-pooling\n",
    "to reduce both the height and width to 1.\n",
    "Technically,\n",
    "the second to the fifth blocks\n",
    "are all\n",
    "those\n",
    "multiscale feature map blocks\n",
    "in the figure of the SSD architecture.\n"
   ]
  },
  {
   "cell_type": "code",
   "execution_count": null,
   "id": "f4ceb17f",
   "metadata": {
    "origin_pos": 25,
    "tab": [
     "pytorch"
    ]
   },
   "outputs": [],
   "source": [
    "def get_blk(i):\n",
    "    if i == 0:\n",
    "        blk = base_net()\n",
    "    elif i == 1:\n",
    "        blk = down_sample_blk(64, 128)\n",
    "    elif i == 4:\n",
    "        blk = nn.AdaptiveMaxPool2d((1,1))\n",
    "    else:\n",
    "        blk = down_sample_blk(128, 128)\n",
    "    return blk"
   ]
  },
  {
   "cell_type": "markdown",
   "id": "9a105d63",
   "metadata": {
    "origin_pos": 26
   },
   "source": [
    "Now we **define the forward propagation**\n",
    "for each block.\n",
    "Different from\n",
    "in image classification tasks,\n",
    "outputs here include\n",
    "(i) CNN feature maps `Y`,\n",
    "(ii) anchor boxes generated using `Y` at the current scale,\n",
    "and (iii) classes and offsets predicted (based on `Y`)\n",
    "for these anchor boxes.\n"
   ]
  },
  {
   "cell_type": "code",
   "execution_count": null,
   "id": "58b7be31",
   "metadata": {
    "origin_pos": 28,
    "tab": [
     "pytorch"
    ]
   },
   "outputs": [],
   "source": [
    "def blk_forward(X, blk, size, ratio, cls_predictor, bbox_predictor):\n",
    "    Y = blk(X)\n",
    "    anchors = d2l.multibox_prior(Y, sizes=size, ratios=ratio)\n",
    "    cls_preds = cls_predictor(Y)\n",
    "    bbox_preds = bbox_predictor(Y)\n",
    "    return (Y, anchors, cls_preds, bbox_preds)"
   ]
  },
  {
   "cell_type": "markdown",
   "id": "ddd2144a",
   "metadata": {
    "origin_pos": 29
   },
   "source": [
    "Recall that\n",
    "in the figure of the SSD architecture,\n",
    "a multiscale feature map block\n",
    "that is closer to the top\n",
    "is for detecting larger objects;\n",
    "thus, it needs to generate larger anchor boxes.\n",
    "In the above forward propagation,\n",
    "at each multiscale feature map block\n",
    "we pass in a list of two scale values\n",
    "via the `sizes` argument\n",
    "of the invoked `multibox_prior` function (described in [Part 2](./02-anchor-student.ipynb)).\n",
    "In the following,\n",
    "the interval between 0.2 and 1.05\n",
    "is split evenly\n",
    "into five sections to determine the\n",
    "smaller scale values at the five blocks: 0.2, 0.37, 0.54, 0.71, and 0.88.\n",
    "Then their larger scale values\n",
    "are given by\n",
    "$\\sqrt{0.2 \\times 0.37} = 0.272$, $\\sqrt{0.37 \\times 0.54} = 0.447$, and so on."
   ]
  },
  {
   "cell_type": "code",
   "execution_count": null,
   "id": "5739c04d",
   "metadata": {
    "origin_pos": 30,
    "tab": [
     "pytorch"
    ]
   },
   "outputs": [],
   "source": [
    "sizes = [[0.2, 0.272], [0.37, 0.447], [0.54, 0.619], [0.71, 0.79],\n",
    "         [0.88, 0.961]]\n",
    "ratios = [[1, 2, 0.5]] * 5\n",
    "num_anchors = len(sizes[0]) + len(ratios[0]) - 1"
   ]
  },
  {
   "cell_type": "markdown",
   "id": "e53fd837",
   "metadata": {
    "origin_pos": 31
   },
   "source": [
    "Now we can **define the complete model** `TinySSD` as follows.\n"
   ]
  },
  {
   "cell_type": "code",
   "execution_count": null,
   "id": "bebd9245",
   "metadata": {
    "origin_pos": 33,
    "tab": [
     "pytorch"
    ]
   },
   "outputs": [],
   "source": [
    "class TinySSD(nn.Module):\n",
    "    def __init__(self, num_classes, **kwargs):\n",
    "        super(TinySSD, self).__init__(**kwargs)\n",
    "        self.num_classes = num_classes\n",
    "        idx_to_in_channels = [64, 128, 128, 128, 128]\n",
    "        for i in range(5):\n",
    "            # Equivalent to the assignment statement `self.blk_i = get_blk(i)`\n",
    "            setattr(self, f'blk_{i}', get_blk(i))\n",
    "            setattr(self, f'cls_{i}', cls_predictor(idx_to_in_channels[i],\n",
    "                                                    num_anchors, num_classes))\n",
    "            setattr(self, f'bbox_{i}', bbox_predictor(idx_to_in_channels[i],\n",
    "                                                      num_anchors))\n",
    "\n",
    "    def forward(self, X):\n",
    "        anchors, cls_preds, bbox_preds = [None] * 5, [None] * 5, [None] * 5\n",
    "        for i in range(5):\n",
    "            # Here `getattr(self, 'blk_%d' % i)` accesses `self.blk_i`\n",
    "            X, anchors[i], cls_preds[i], bbox_preds[i] = blk_forward(\n",
    "                X, getattr(self, f'blk_{i}'), sizes[i], ratios[i],\n",
    "                getattr(self, f'cls_{i}'), getattr(self, f'bbox_{i}'))\n",
    "        anchors = torch.cat(anchors, dim=1)\n",
    "        cls_preds = concat_preds(cls_preds)\n",
    "        cls_preds = cls_preds.reshape(\n",
    "            cls_preds.shape[0], -1, self.num_classes + 1)\n",
    "        bbox_preds = concat_preds(bbox_preds)\n",
    "        return anchors, cls_preds, bbox_preds"
   ]
  },
  {
   "cell_type": "markdown",
   "id": "733601dd",
   "metadata": {
    "origin_pos": 34
   },
   "source": [
    "We **create a model instance\n",
    "and use it to perform forward propagation**\n",
    "on a minibatch of $256 \\times 256$ images `X`.\n",
    "\n",
    "As shown earlier in this section,\n",
    "the first block outputs $32 \\times 32$ feature maps.\n",
    "Recall that\n",
    "the second to fourth downsampling blocks\n",
    "halve the height and width\n",
    "and the fifth block uses global pooling.\n",
    "Since 4 anchor boxes\n",
    "are generated for each unit along spatial dimensions\n",
    "of feature maps,\n",
    "at all the five scales\n",
    "a total of $(32^2 + 16^2 + 8^2 + 4^2 + 1)\\times 4 = 5444$ anchor boxes are generated for each image.\n"
   ]
  },
  {
   "cell_type": "code",
   "execution_count": null,
   "id": "f2dae565",
   "metadata": {
    "origin_pos": 36,
    "tab": [
     "pytorch"
    ]
   },
   "outputs": [],
   "source": [
    "net = TinySSD(num_classes=1)\n",
    "X = torch.zeros((32, 3, 256, 256))\n",
    "anchors, cls_preds, bbox_preds = net(X)\n",
    "\n",
    "print('output anchors:', anchors.shape)\n",
    "print('output class preds:', cls_preds.shape)\n",
    "print('output bbox preds:', bbox_preds.shape)"
   ]
  },
  {
   "cell_type": "markdown",
   "id": "4fc36bf9",
   "metadata": {
    "origin_pos": 37
   },
   "source": [
    "## Training\n",
    "\n",
    "Now we will explain\n",
    "how to train the single shot multibox detection model\n",
    "for object detection.\n",
    "\n",
    "\n",
    "### Reading the Dataset and Initializing the Model\n",
    "\n",
    "To begin with,\n",
    "let's **read\n",
    "the banana detection dataset**\n",
    "described in [Part 4](./04-object-detection-dataset-student.ipynb).\n"
   ]
  },
  {
   "cell_type": "code",
   "execution_count": null,
   "id": "f33b750b",
   "metadata": {},
   "outputs": [],
   "source": [
    "batch_size = 32\n",
    "train_iter, _ = d2l.load_data_bananas(batch_size)"
   ]
  },
  {
   "cell_type": "markdown",
   "id": "2a272773",
   "metadata": {
    "origin_pos": 39
   },
   "source": [
    "There is only one class in the banana detection dataset. After defining the model,\n",
    "we need to (**initialize its parameters and define\n",
    "the optimization algorithm**).\n"
   ]
  },
  {
   "cell_type": "code",
   "execution_count": null,
   "id": "a1a62509",
   "metadata": {
    "origin_pos": 41,
    "tab": [
     "pytorch"
    ]
   },
   "outputs": [],
   "source": [
    "device, net = d2l.try_gpu(), TinySSD(num_classes=1)\n",
    "trainer = torch.optim.SGD(net.parameters(), lr=0.2, weight_decay=5e-4)"
   ]
  },
  {
   "cell_type": "markdown",
   "id": "6e2fa5cb",
   "metadata": {},
   "source": [
    "If you want, you can inspect the structure of the network by uncommenting the cell below."
   ]
  },
  {
   "cell_type": "code",
   "execution_count": null,
   "id": "378e7e9b-8411-41af-9f1d-268a7f2f379d",
   "metadata": {},
   "outputs": [],
   "source": [
    "#net"
   ]
  },
  {
   "cell_type": "code",
   "execution_count": null,
   "id": "fb58a427",
   "metadata": {
    "tags": [
     "TEACHER"
    ]
   },
   "outputs": [],
   "source": [
    "# TEACHER\n",
    "net"
   ]
  },
  {
   "cell_type": "markdown",
   "id": "510a8464",
   "metadata": {},
   "source": [
    "We can get the total number of trainable parameters by counter the number of elements in each parameter:"
   ]
  },
  {
   "cell_type": "code",
   "execution_count": null,
   "id": "c85a50b9-ab14-475b-9d6e-a193b61497ee",
   "metadata": {},
   "outputs": [],
   "source": [
    "sum(p.numel() for p in net.parameters() if p.requires_grad)"
   ]
  },
  {
   "cell_type": "markdown",
   "id": "f4d0748c",
   "metadata": {
    "origin_pos": 42
   },
   "source": [
    "### **Defining Loss and Evaluation Functions**\n",
    "\n",
    "Object detection has **two types of losses**.\n",
    "The first loss concerns **classes of anchor boxes**:\n",
    "its computation\n",
    "can simply reuse\n",
    "the **cross-entropy loss function**\n",
    "that we use for image classification.\n",
    "The second loss\n",
    "concerns **offsets of positive (non-background) anchor boxes**:\n",
    "this is a **regression problem**.\n",
    "For this regression problem,\n",
    "however,\n",
    "here we do not use the squared loss\n",
    "described.\n",
    "Instead,\n",
    "we **use the $\\ell_1$ norm loss**,\n",
    "the absolute value of the difference between\n",
    "the prediction and the ground-truth.\n",
    "The mask variable `bbox_masks` filters out\n",
    "negative anchor boxes and illegal (padded)\n",
    "anchor boxes in the loss calculation.\n",
    "In the end, we sum up\n",
    "the anchor box class loss\n",
    "and the anchor box offset loss\n",
    "to obtain the loss function for the model.\n"
   ]
  },
  {
   "cell_type": "markdown",
   "id": "da8c9e6a",
   "metadata": {},
   "source": [
    "### Your turn\n",
    "> Fix the definitions of the following loss functions to comply with the previous explanations.\n",
    ">"
   ]
  },
  {
   "cell_type": "code",
   "execution_count": null,
   "id": "fb487051",
   "metadata": {
    "origin_pos": 44,
    "tab": [
     "pytorch"
    ]
   },
   "outputs": [],
   "source": [
    "cls_loss = nn.????(reduction='none')\n",
    "bbox_loss = nn.????(reduction='none')"
   ]
  },
  {
   "cell_type": "code",
   "execution_count": null,
   "id": "addf843d",
   "metadata": {
    "tags": [
     "TEACHER"
    ]
   },
   "outputs": [],
   "source": [
    "# TEACHER\n",
    "cls_loss = nn.CrossEntropyLoss(reduction='none')\n",
    "bbox_loss = nn.L1Loss(reduction='none')"
   ]
  },
  {
   "cell_type": "code",
   "execution_count": null,
   "id": "223c421e",
   "metadata": {},
   "outputs": [],
   "source": [
    "\n",
    "def calc_loss(cls_preds, cls_labels, bbox_preds, bbox_labels, bbox_masks):\n",
    "    batch_size, num_classes = cls_preds.shape[0], cls_preds.shape[2]\n",
    "    cls = cls_loss(cls_preds.reshape(-1, num_classes),\n",
    "                   cls_labels.reshape(-1)).reshape(batch_size, -1).mean(dim=1)\n",
    "    bbox = bbox_loss(bbox_preds * bbox_masks,\n",
    "                     bbox_labels * bbox_masks).mean(dim=1)\n",
    "    return cls + bbox"
   ]
  },
  {
   "cell_type": "markdown",
   "id": "698d6678",
   "metadata": {
    "origin_pos": 45
   },
   "source": [
    "We can use accuracy to evaluate the classification results.\n",
    "Due to the used $\\ell_1$ norm loss for the offsets,\n",
    "we use the *mean absolute error* to evaluate the\n",
    "predicted bounding boxes.\n",
    "These prediction results are obtained\n",
    "from the generated anchor boxes and the\n",
    "predicted offsets for them.\n"
   ]
  },
  {
   "cell_type": "code",
   "execution_count": null,
   "id": "9222816a",
   "metadata": {
    "origin_pos": 47,
    "tab": [
     "pytorch"
    ]
   },
   "outputs": [],
   "source": [
    "def cls_eval(cls_preds, cls_labels):\n",
    "    # Because the class prediction results are on the final dimension,\n",
    "    # `argmax` needs to specify this dimension\n",
    "    return float((cls_preds.argmax(dim=-1).type(\n",
    "        cls_labels.dtype) == cls_labels).sum())\n",
    "\n",
    "def bbox_eval(bbox_preds, bbox_labels, bbox_masks):\n",
    "    return float((torch.abs((bbox_labels - bbox_preds) * bbox_masks)).sum())"
   ]
  },
  {
   "cell_type": "markdown",
   "id": "986e6713",
   "metadata": {
    "origin_pos": 48
   },
   "source": [
    "### **Training the Model**\n",
    "\n",
    "When training the model,\n",
    "we need to generate multiscale anchor boxes (`anchors`)\n",
    "and predict their classes (`cls_preds`) and offsets (`bbox_preds`) in the forward propagation.\n",
    "Then we label the classes (`cls_labels`) and offsets (`bbox_labels`) of such generated anchor boxes\n",
    "based on the label information `Y`.\n",
    "Finally, we calculate the loss function\n",
    "using the predicted and labeled values\n",
    "of the classes and offsets.\n",
    "For concise implementations,\n",
    "evaluation of the test dataset is omitted here.\n"
   ]
  },
  {
   "cell_type": "code",
   "execution_count": null,
   "id": "77061b05",
   "metadata": {},
   "outputs": [],
   "source": [
    "num_epochs, timer = 20, d2l.Timer()\n",
    "animator = d2l.Animator(xlabel='epoch', xlim=[1, num_epochs],\n",
    "                        legend=['class error', 'bbox mae'])\n",
    "net = net.to(device)\n",
    "for epoch in range(num_epochs):\n",
    "    # Sum of training accuracy, no. of examples in sum of training accuracy,\n",
    "    # Sum of absolute error, no. of examples in sum of absolute error\n",
    "    metric = d2l.Accumulator(4)\n",
    "    net.train()\n",
    "    for features, target in train_iter:\n",
    "        timer.start()\n",
    "        trainer.zero_grad()\n",
    "        X, Y = features.to(device), target.to(device)\n",
    "        # Generate multiscale anchor boxes and predict their classes and\n",
    "        # offsets\n",
    "        anchors, cls_preds, bbox_preds = net(X)\n",
    "        # Label the classes and offsets of these anchor boxes\n",
    "        bbox_labels, bbox_masks, cls_labels = d2l.multibox_target(anchors, Y)\n",
    "        # Calculate the loss function using the predicted and labeled values\n",
    "        # of the classes and offsets\n",
    "        l = calc_loss(cls_preds, cls_labels, bbox_preds, bbox_labels,\n",
    "                      bbox_masks)\n",
    "        l.mean().backward()\n",
    "        trainer.step()\n",
    "        metric.add(cls_eval(cls_preds, cls_labels), cls_labels.numel(),\n",
    "                   bbox_eval(bbox_preds, bbox_labels, bbox_masks),\n",
    "                   bbox_labels.numel())\n",
    "    cls_err, bbox_mae = 1 - metric[0] / metric[1], metric[2] / metric[3]\n",
    "    animator.add(epoch + 1, (cls_err, bbox_mae))\n",
    "print(f'class err {cls_err:.2e}, bbox mae {bbox_mae:.2e}')\n",
    "print(f'{len(train_iter.dataset) / timer.stop():.1f} examples/sec on '\n",
    "      f'{str(device)}')"
   ]
  },
  {
   "cell_type": "markdown",
   "id": "4adceca0",
   "metadata": {
    "origin_pos": 51
   },
   "source": [
    "## **Prediction**\n",
    "\n",
    "During prediction,\n",
    "the goal is to detect all the objects of interest\n",
    "on the image.\n",
    "Below\n",
    "we read and resize a test image,\n",
    "converting it to\n",
    "a four-dimensional tensor that is\n",
    "required by convolutional layers.\n"
   ]
  },
  {
   "cell_type": "code",
   "execution_count": null,
   "id": "339946e8",
   "metadata": {
    "origin_pos": 53,
    "tab": [
     "pytorch"
    ]
   },
   "outputs": [],
   "source": [
    "!test -f banana.jpg || wget -O banana.jpg https://github.com/d2l-ai/d2l-en/blob/master/img/banana.jpg?raw=true\n",
    "X = torchvision.io.read_image('banana.jpg').unsqueeze(0).float()\n",
    "img = X.squeeze(0).permute(1, 2, 0).long()\n",
    "d2l.plt.imshow(img)"
   ]
  },
  {
   "cell_type": "markdown",
   "id": "b9d6143d",
   "metadata": {
    "origin_pos": 54
   },
   "source": [
    "Using the `multibox_detection` function below,\n",
    "the predicted bounding boxes\n",
    "are obtained\n",
    "from the anchor boxes and their predicted offsets.\n",
    "Then non-maximum suppression is used\n",
    "to remove similar predicted bounding boxes.\n",
    "\n",
    "Note that we need to apply a `softmax` layer on the class predictions to extract probabilities that we can feed into the `multibox_detection` function."
   ]
  },
  {
   "cell_type": "markdown",
   "id": "9d3342f4",
   "metadata": {},
   "source": [
    "### Your turn\n",
    "> Complete the code of the `predict()` function below to properly chain the output of the network to the `multibox_detection` function."
   ]
  },
  {
   "cell_type": "code",
   "execution_count": null,
   "id": "d04db2f1",
   "metadata": {
    "origin_pos": 56,
    "tab": [
     "pytorch"
    ]
   },
   "outputs": [],
   "source": [
    "def predict(X):\n",
    "    net.eval()\n",
    "    ????, ????, ???? = net(X.to(device))\n",
    "    cls_probs = F.softmax(cls_preds, dim=2).permute(0, 2, 1)\n",
    "    output = d2l.multibox_detection(?????)\n",
    "    idx = [i for i, row in enumerate(output[0]) if row[0] != -1]\n",
    "    return output[0, idx]\n",
    "\n",
    "output = predict(X)\n",
    "output[...,:10,:]"
   ]
  },
  {
   "cell_type": "code",
   "execution_count": null,
   "id": "04e342fa",
   "metadata": {
    "tags": [
     "TEACHER"
    ]
   },
   "outputs": [],
   "source": [
    "# TEACHER\n",
    "def predict(X):\n",
    "    net.eval()\n",
    "    anchors, cls_preds, bbox_preds = net(X.to(device))\n",
    "    cls_probs = F.softmax(cls_preds, dim=2).permute(0, 2, 1)\n",
    "    output = d2l.multibox_detection(cls_probs, bbox_preds, anchors)\n",
    "    idx = [i for i, row in enumerate(output[0]) if row[0] != -1]\n",
    "    return output[0, idx]\n",
    "\n",
    "output = predict(X)\n",
    "output[...,:10,:]"
   ]
  },
  {
   "cell_type": "markdown",
   "id": "eca747f5",
   "metadata": {
    "origin_pos": 57
   },
   "source": [
    "Finally, we **display\n",
    "all the predicted bounding boxes with\n",
    "confidence 0.9 or above**\n",
    "as output.\n"
   ]
  },
  {
   "cell_type": "code",
   "execution_count": null,
   "id": "e4cdc5e5",
   "metadata": {
    "origin_pos": 59,
    "tab": [
     "pytorch"
    ]
   },
   "outputs": [],
   "source": [
    "def display(img, output, threshold):\n",
    "    d2l.set_figsize((5, 5))\n",
    "    fig = d2l.plt.imshow(img)\n",
    "    for row in output:\n",
    "        score = float(row[1])\n",
    "        if score < threshold:\n",
    "            continue\n",
    "        h, w = img.shape[:2]\n",
    "        bbox = [row[2:6] * torch.tensor((w, h, w, h), device=row.device)]\n",
    "        d2l.show_bboxes(fig.axes, bbox, '%.2f' % score, 'r')\n",
    "\n",
    "display(img, output.cpu(), threshold=0.3)"
   ]
  },
  {
   "cell_type": "markdown",
   "id": "41d6cb3d",
   "metadata": {
    "origin_pos": 60
   },
   "source": [
    "## Summary\n",
    "\n",
    "* Single shot multibox detection is a multiscale object detection model. Via its base network and several multiscale feature map blocks, single-shot multibox detection generates a varying number of anchor boxes with different sizes, and detects varying-size objects by predicting classes and offsets of these anchor boxes (thus the bounding boxes).\n",
    "* When training the single-shot multibox detection model, the loss function is calculated based on the predicted and labeled values of the anchor box classes and offsets.\n",
    "\n",
    "\n",
    "\n",
    "## Improvements\n",
    "\n",
    "Can you improve the single-shot multibox detection by improving the loss function? For example, replace $\\ell_1$ norm loss with smooth $\\ell_1$ norm loss for the predicted offsets. This loss function uses a square function around zero for smoothness, which is controlled by the hyperparameter $\\sigma$:\n",
    "\n",
    "$$\n",
    "f(x) =\n",
    "    \\begin{cases}\n",
    "    (\\sigma x)^2/2,& \\textrm{if }|x| < 1/\\sigma^2\\\\\n",
    "    |x|-0.5/\\sigma^2,& \\textrm{otherwise}\n",
    "    \\end{cases}\n",
    "$$\n",
    "\n",
    "When $\\sigma$ is very large, this loss is similar to the $\\ell_1$ norm loss. When its value is smaller, the loss function is smoother.\n"
   ]
  },
  {
   "cell_type": "code",
   "execution_count": null,
   "id": "eaf2bcfb",
   "metadata": {
    "origin_pos": 62,
    "tab": [
     "pytorch"
    ]
   },
   "outputs": [],
   "source": [
    "def smooth_l1(data, scalar):\n",
    "    out = []\n",
    "    for i in data:\n",
    "        if abs(i) < 1 / (scalar ** 2):\n",
    "            out.append(((scalar * i) ** 2) / 2)\n",
    "        else:\n",
    "            out.append(abs(i) - 0.5 / (scalar ** 2))\n",
    "    return torch.tensor(out)\n",
    "\n",
    "sigmas = [10, 1, 0.5]\n",
    "lines = ['-', '--', '-.']\n",
    "x = torch.arange(-2, 2, 0.1)\n",
    "d2l.set_figsize()\n",
    "\n",
    "for l, s in zip(lines, sigmas):\n",
    "    y = smooth_l1(x, scalar=s)\n",
    "    d2l.plt.plot(x, y, l, label='sigma=%.1f' % s)\n",
    "d2l.plt.legend();"
   ]
  },
  {
   "cell_type": "markdown",
   "id": "83de4871",
   "metadata": {
    "origin_pos": 63
   },
   "source": [
    "Besides, in the experiment we used cross-entropy loss for class prediction:\n",
    "denoting by $p_j$ the predicted probability for the ground-truth class $j$, the cross-entropy loss is $-\\log p_j$. We can also use the [focal loss](https://openaccess.thecvf.com/content_iccv_2017/html/Lin_Focal_Loss_for_ICCV_2017_paper.html): given hyperparameters $\\gamma > 0$\n",
    "and $\\alpha > 0$, this loss is defined as:\n",
    "\n",
    "$$ - \\alpha (1-p_j)^{\\gamma} \\log p_j.$$\n",
    "\n",
    "As we can see, increasing $\\gamma$\n",
    "can effectively reduce the relative loss\n",
    "for well-classified examples (e.g., $p_j > 0.5$)\n",
    "so the training\n",
    "can focus more on those difficult examples that are misclassified.\n"
   ]
  },
  {
   "cell_type": "code",
   "execution_count": null,
   "id": "90122fd8",
   "metadata": {
    "origin_pos": 65,
    "tab": [
     "pytorch"
    ]
   },
   "outputs": [],
   "source": [
    "def focal_loss(gamma, x):\n",
    "    return -(1 - x) ** gamma * torch.log(x)\n",
    "\n",
    "x = torch.arange(0.01, 1, 0.01)\n",
    "for l, gamma in zip(lines, [0, 1, 5]):\n",
    "    y = d2l.plt.plot(x, focal_loss(gamma, x), l, label='gamma=%.1f' % gamma)\n",
    "d2l.plt.legend();"
   ]
  },
  {
   "cell_type": "code",
   "execution_count": null,
   "id": "2dbe02eb",
   "metadata": {},
   "outputs": [],
   "source": []
  }
 ],
 "metadata": {
  "kernelspec": {
   "display_name": "Python 3 (ipykernel)",
   "language": "python",
   "name": "python3"
  },
  "language_info": {
   "codemirror_mode": {
    "name": "ipython",
    "version": 3
   },
   "file_extension": ".py",
   "mimetype": "text/x-python",
   "name": "python",
   "nbconvert_exporter": "python",
   "pygments_lexer": "ipython3",
   "version": "3.8.10"
  },
  "required_libs": []
 },
 "nbformat": 4,
 "nbformat_minor": 5
}
