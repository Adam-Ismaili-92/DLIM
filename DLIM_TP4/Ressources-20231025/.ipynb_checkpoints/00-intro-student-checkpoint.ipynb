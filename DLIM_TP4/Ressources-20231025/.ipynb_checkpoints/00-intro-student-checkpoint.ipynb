{
 "cells": [
  {
   "cell_type": "markdown",
   "metadata": {},
   "source": [
    "# DLIM 2023 Lab 04: Detection\n",
    "\n",
    "This work is heavily based on the [excellent chapters](https://d2l.ai/chapter_computer-vision/index.html) on detection from [Dive into Deep Learning](https://d2l.ai/).\n",
    "\n",
    "![](https://d2l.ai/_images/front-cup.jpg)\n",
    "\n",
    "The original work is made available under the Creative Commons Attribution-ShareAlike 4.0 International Public License, with code samples available under the MIT license.\n",
    "\n",
    "As such, this derivative work is also licensed under the [Creative Commons BY-SA 4.0 International License](https://creativecommons.org/licenses/by-sa/4.0/)."
   ]
  },
  {
   "cell_type": "markdown",
   "metadata": {},
   "source": [
    "Modifications include some code to rewrite, extra questions, some minor clarifications, etc."
   ]
  },
  {
   "cell_type": "markdown",
   "metadata": {},
   "source": [
    "## Requirements\n",
    "\n",
    "You may need to install the following Python packages:"
   ]
  },
  {
   "cell_type": "code",
   "execution_count": null,
   "metadata": {},
   "outputs": [],
   "source": [
    "%pip install torch torchvision d2l"
   ]
  }
 ],
 "metadata": {
  "kernelspec": {
   "display_name": "dlim23-tp2-py3.8",
   "language": "python",
   "name": "python3"
  },
  "language_info": {
   "codemirror_mode": {
    "name": "ipython",
    "version": 3
   },
   "file_extension": ".py",
   "mimetype": "text/x-python",
   "name": "python",
   "nbconvert_exporter": "python",
   "pygments_lexer": "ipython3",
   "version": "3.8.10"
  }
 },
 "nbformat": 4,
 "nbformat_minor": 2
}
