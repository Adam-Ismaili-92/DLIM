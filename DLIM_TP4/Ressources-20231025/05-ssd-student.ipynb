{
 "cells": [
  {
   "cell_type": "markdown",
   "id": "2a96029c",
   "metadata": {
    "origin_pos": 0
   },
   "source": [
    "# Single Shot Multibox Detection\n",
    "\n",
    "We previously introduced bounding boxes, anchor boxes,\n",
    "multiscale object detection, and the dataset for object detection.\n",
    "Now we are ready to use such background\n",
    "knowledge to design an object detection model:\n",
    "[single shot multibox detection\n",
    "(SSD)](https://arxiv.org/abs/1512.02325).\n",
    "This model is simple, fast, and widely used.\n",
    "Although this is just one of vast amounts of\n",
    "object detection models,\n",
    "some of the design principles\n",
    "and implementation details in this section\n",
    "are also applicable to other models."
   ]
  },
  {
   "cell_type": "markdown",
   "id": "c58f99d1",
   "metadata": {},
   "source": [
    "\n",
    "## Model\n",
    "\n",
    "The figure below provides an overview of\n",
    "the design of single-shot multibox detection.\n",
    "This model mainly consists of\n",
    "a base network\n",
    "followed by\n",
    "several multiscale feature map blocks.\n",
    "The base network\n",
    "is for extracting features from the input image,\n",
    "so it can use a deep CNN.\n",
    "For example,\n",
    "the [original single-shot multibox detection paper](https://arxiv.org/abs/1512.02325)\n",
    "adopts a VGG network truncated before the\n",
    "classification layer,\n",
    "while ResNet has also been commonly used.\n",
    "Through our design\n",
    "we can make the base network output\n",
    "larger feature maps\n",
    "so as to generate more anchor boxes\n",
    "for detecting smaller objects.\n",
    "Subsequently,\n",
    "each multiscale feature map block\n",
    "reduces (e.g., by half)\n",
    "the height and width of the feature maps\n",
    "from the previous block,\n",
    "and enables each unit\n",
    "of the feature maps\n",
    "to increase its receptive field on the input image.\n",
    "\n",
    "\n",
    "Recall the design\n",
    "of multiscale object detection\n",
    "through layerwise representations of images by\n",
    "deep neural networks\n",
    "in [Part 3](./03-multiscale-object-detection-student.ipynb).\n",
    "Since\n",
    "multiscale feature maps (the ones closer to the top of the figure below)\n",
    "are smaller but have larger receptive fields,\n",
    "they are suitable for detecting\n",
    "fewer but larger objects.\n",
    "\n",
    "In a nutshell,\n",
    "via its base network and several multiscale feature map blocks,\n",
    "single-shot multibox detection\n",
    "generates a varying number of anchor boxes with different sizes,\n",
    "and detects varying-size objects\n",
    "by predicting classes and offsets\n",
    "of these anchor boxes (thus the bounding boxes);\n",
    "thus, this is a multiscale object detection model.\n",
    "\n",
    "\n",
    "![As a multiscale object detection model, single-shot multibox detection mainly consists of a base network followed by several multiscale feature map blocks.](https://raw.githubusercontent.com/d2l-ai/d2l-en/e4f0ed18d9d83cd35434404daaf7ffc9631b5ece/img/ssd.svg)\n",
    "\n",
    "\n",
    "In the following,\n",
    "we will describe the implementation details\n",
    "of different blocks in the previous figure. To begin with, we discuss how to implement\n",
    "the class and bounding box prediction.\n",
    "\n",
    "\n"
   ]
  },
  {
   "cell_type": "markdown",
   "id": "a21c325a",
   "metadata": {},
   "source": [
    "\n",
    "### Class Prediction Layer\n",
    "\n",
    "Let the number of object classes be $q$.\n",
    "Then **anchor boxes have $q+1$ classes,\n",
    "where class 0 is background**.\n",
    "At some scale,\n",
    "suppose that the height and width of feature maps\n",
    "are $h$ and $w$, respectively.\n",
    "When $a$ anchor boxes\n",
    "are generated with\n",
    "each spatial position of these feature maps as their center,\n",
    "a total of $hwa$ anchor boxes need to be classified.\n",
    "This often makes classification with fully connected layers infeasible due to likely\n",
    "heavy parametrization costs.\n",
    "Instead, it is common to use channels of\n",
    "convolutional layers to predict classes.\n",
    "Single-shot multibox detection uses the\n",
    "same technique to reduce model complexity.\n",
    "\n",
    "Specifically,\n",
    "the class prediction layer uses a convolutional layer\n",
    "without altering width or height of feature maps.\n",
    "In this way,\n",
    "there can be a one-to-one correspondence\n",
    "between outputs and inputs\n",
    "at the same spatial dimensions (width and height)\n",
    "of feature maps.\n",
    "More concretely,\n",
    "channels of the output feature maps\n",
    "at any spatial position ($x$, $y$)\n",
    "represent class predictions\n",
    "for all the anchor boxes centered on\n",
    "($x$, $y$) of the input feature maps.\n",
    "To produce valid predictions,\n",
    "there must be **$a(q+1)$ output channels**,\n",
    "where for the same spatial position\n",
    "the output channel with index $i(q+1) + j$\n",
    "represents the prediction of\n",
    "the class $j$ ($0 \\leq j \\leq q$)\n",
    "for the anchor box $i$ ($0 \\leq i < a$).\n",
    "\n",
    "Below we define such a class prediction layer,\n",
    "specifying $a$ and $q$ via arguments `num_anchors` and `num_classes`, respectively.\n",
    "This layer uses a $3\\times3$ convolutional layer with a\n",
    "padding of 1.\n",
    "The width and height of the input and output of this\n",
    "convolutional layer remain unchanged.\n"
   ]
  },
  {
   "cell_type": "code",
   "execution_count": 1,
   "id": "ddad6013",
   "metadata": {
    "origin_pos": 2,
    "tab": [
     "pytorch"
    ]
   },
   "outputs": [],
   "source": [
    "%matplotlib inline\n",
    "import torch\n",
    "import torchvision\n",
    "from torch import nn\n",
    "from torch.nn import functional as F\n",
    "from d2l import torch as d2l"
   ]
  },
  {
   "cell_type": "markdown",
   "id": "53596685",
   "metadata": {},
   "source": [
    "### Your turn\n",
    "> Complete the code of the `cls_predictor` function below.\n",
    "> \n",
    "> Return a simple `Conv2d` layer with the appropriate number of inputs and outputs.\n",
    ">\n",
    "> Use a `kernel_size` of 3 and set the `padding` to 1 to preserve image size."
   ]
  },
  {
   "cell_type": "code",
   "execution_count": null,
   "id": "996445d6",
   "metadata": {},
   "outputs": [],
   "source": [
    "def cls_predictor(num_inputs, num_anchors, num_classes):\n",
    "    return nn.Conv2d(????)"
   ]
  },
  {
   "cell_type": "code",
   "execution_count": 2,
   "id": "ac090a45",
   "metadata": {
    "tags": [
     "TEACHER"
    ]
   },
   "outputs": [],
   "source": [
    "# TEACHER\n",
    "def cls_predictor(num_inputs, num_anchors, num_classes):\n",
    "    return nn.Conv2d(num_inputs, num_anchors * (num_classes + 1),\n",
    "                     kernel_size=3, padding=1)"
   ]
  },
  {
   "cell_type": "markdown",
   "id": "1d31cb46",
   "metadata": {
    "origin_pos": 3
   },
   "source": [
    "### **Bounding Box Prediction Layer**\n",
    "\n",
    "The design of the bounding box prediction layer is similar to that of the class prediction layer.\n",
    "The only difference lies in the number of outputs for each anchor box:\n",
    "here we need to predict four offsets rather than $q+1$ classes.\n"
   ]
  },
  {
   "cell_type": "markdown",
   "id": "9c919064",
   "metadata": {},
   "source": [
    "### Your turn\n",
    "> Complete the code of the `bbox_predictor` function below.\n",
    "> \n",
    "> Return a simple `Conv2d` layer with the appropriate number of inputs and outputs.\n",
    ">\n",
    "> Use a `kernel_size` of 3 and set the `padding` to 1 to preserve image size."
   ]
  },
  {
   "cell_type": "code",
   "execution_count": null,
   "id": "1c16f3a5",
   "metadata": {
    "origin_pos": 5,
    "tab": [
     "pytorch"
    ],
    "tags": []
   },
   "outputs": [],
   "source": [
    "def bbox_predictor(num_inputs, num_anchors):\n",
    "    return nn.Conv2d(????)"
   ]
  },
  {
   "cell_type": "code",
   "execution_count": 3,
   "id": "91984175",
   "metadata": {},
   "outputs": [],
   "source": [
    "# TEACHER\n",
    "def bbox_predictor(num_inputs, num_anchors):\n",
    "    return nn.Conv2d(num_inputs, num_anchors * 4, kernel_size=3, padding=1)"
   ]
  },
  {
   "cell_type": "markdown",
   "id": "68506c13",
   "metadata": {
    "origin_pos": 6
   },
   "source": [
    "### Concatenating Predictions for Multiple Scales\n",
    "\n",
    "As we mentioned, single-shot multibox detection\n",
    "uses multiscale feature maps to generate anchor boxes and predict their classes and offsets.\n",
    "At different scales,\n",
    "the shapes of feature maps\n",
    "or the numbers of anchor boxes centered on the same unit\n",
    "may vary.\n",
    "Therefore,\n",
    "shapes of the prediction outputs\n",
    "at different scales may vary.\n",
    "\n",
    "In the following example,\n",
    "we construct feature maps at two different scales,\n",
    "`Y1` and `Y2`,\n",
    "for the same minibatch,\n",
    "where the height and width of `Y2`\n",
    "are half of those of `Y1`.\n",
    "Let's take class prediction as an example.\n",
    "Suppose that\n",
    "5 and 3 anchor boxes\n",
    "are generated for every unit in `Y1` and `Y2`, respectively.\n",
    "Suppose further that\n",
    "the number of object classes is 10.\n",
    "For feature maps `Y1` and `Y2`\n",
    "the numbers of channels in the class prediction outputs\n",
    "are $5\\times(10+1)=55$ and $3\\times(10+1)=33$, respectively,\n",
    "where either output shape is\n",
    "(batch size, number of channels, height, width).\n"
   ]
  },
  {
   "cell_type": "code",
   "execution_count": 4,
   "id": "63fcc574",
   "metadata": {
    "origin_pos": 8,
    "tab": [
     "pytorch"
    ]
   },
   "outputs": [
    {
     "data": {
      "text/plain": [
       "(torch.Size([2, 55, 20, 20]), torch.Size([2, 33, 10, 10]))"
      ]
     },
     "execution_count": 4,
     "metadata": {},
     "output_type": "execute_result"
    }
   ],
   "source": [
    "def forward(x, block):\n",
    "    return block(x)\n",
    "\n",
    "Y1 = forward(torch.zeros((2, 8, 20, 20)), cls_predictor(8, 5, 10))\n",
    "Y2 = forward(torch.zeros((2, 16, 10, 10)), cls_predictor(16, 3, 10))\n",
    "Y1.shape, Y2.shape"
   ]
  },
  {
   "cell_type": "markdown",
   "id": "e94c1d55",
   "metadata": {
    "origin_pos": 9
   },
   "source": [
    "As we can see, except for the batch size dimension,\n",
    "the other three dimensions all have different sizes.\n",
    "To concatenate these two prediction outputs for more efficient computation,\n",
    "we will transform these tensors into a more consistent format.\n",
    "\n",
    "Note that\n",
    "the channel dimension holds the predictions for\n",
    "anchor boxes with the same center.\n",
    "We first move this dimension to the innermost (last).\n",
    "Since the batch size remains the same for different scales,\n",
    "we can transform the prediction output\n",
    "into a two-dimensional tensor\n",
    "with shape (batch size, height $\\times$ width $\\times$ number of channels).\n",
    "Then we can concatenate\n",
    "such outputs at different scales\n",
    "along dimension 1.\n"
   ]
  },
  {
   "cell_type": "code",
   "execution_count": 5,
   "id": "2f0d32e4",
   "metadata": {
    "origin_pos": 11,
    "tab": [
     "pytorch"
    ]
   },
   "outputs": [],
   "source": [
    "def flatten_pred(pred):\n",
    "    return torch.flatten(pred.permute(0, 2, 3, 1), start_dim=1)\n",
    "\n",
    "def concat_preds(preds):\n",
    "    return torch.cat([flatten_pred(p) for p in preds], dim=1)"
   ]
  },
  {
   "cell_type": "markdown",
   "id": "c3b25c1b",
   "metadata": {
    "origin_pos": 12
   },
   "source": [
    "In this way,\n",
    "even though `Y1` and `Y2` have different sizes\n",
    "in channels, heights, and widths,\n",
    "we can still concatenate these two prediction outputs at two different scales for the same minibatch.\n"
   ]
  },
  {
   "cell_type": "code",
   "execution_count": 6,
   "id": "e51526a4",
   "metadata": {
    "origin_pos": 13,
    "tab": [
     "pytorch"
    ]
   },
   "outputs": [
    {
     "data": {
      "text/plain": [
       "torch.Size([2, 25300])"
      ]
     },
     "execution_count": 6,
     "metadata": {},
     "output_type": "execute_result"
    }
   ],
   "source": [
    "concat_preds([Y1, Y2]).shape"
   ]
  },
  {
   "cell_type": "markdown",
   "id": "a8e26443",
   "metadata": {
    "origin_pos": 14
   },
   "source": [
    "### Downsampling Block\n",
    "\n",
    "In order to detect objects at multiple scales,\n",
    "we define the following downsampling block `down_sample_blk` that\n",
    "halves the height and width of input feature maps.\n",
    "In fact,\n",
    "this block applies the design of VGG blocks.\n",
    "More concretely,\n",
    "each downsampling block consists of\n",
    "two $3\\times3$ convolutional layers with padding of 1\n",
    "followed by a $2\\times2$ max-pooling layer with stride of 2.\n",
    "As we know, $3\\times3$ convolutional layers with padding of 1 do not change the shape of feature maps.\n",
    "However, the subsequent $2\\times2$ max-pooling  reduces the height and width of input feature maps by half.\n",
    "For both input and output feature maps of this downsampling block,\n",
    "because $1\\times 2+(3-1)+(3-1)=6$,\n",
    "each unit in the output\n",
    "has a $6\\times6$ receptive field on the input.\n",
    "Therefore, the downsampling block enlarges the receptive field of each unit in its output feature maps.\n"
   ]
  },
  {
   "cell_type": "markdown",
   "id": "0982ce31",
   "metadata": {},
   "source": [
    "### Your turn\n",
    "> Complete the code of the `down_sample_blk` function below.\n",
    "> \n",
    "> Configure the `Conv2d` and `MaxPool2d` layer according to the previous explanations.\n",
    ">\n",
    "> Use a `3×3` kernel for the convolution and preserve image size with appropriate padding."
   ]
  },
  {
   "cell_type": "code",
   "execution_count": null,
   "id": "4445ba07",
   "metadata": {
    "origin_pos": 16,
    "tab": [
     "pytorch"
    ]
   },
   "outputs": [],
   "source": [
    "def down_sample_blk(in_channels, out_channels):\n",
    "    blk = []\n",
    "    for _ in range(2):\n",
    "        blk.append(nn.Conv2d(????))\n",
    "        blk.append(nn.BatchNorm2d(out_channels))\n",
    "        blk.append(nn.ReLU())\n",
    "        in_channels = out_channels\n",
    "    blk.append(nn.MaxPool2d(????))\n",
    "    return nn.Sequential(*blk)"
   ]
  },
  {
   "cell_type": "code",
   "execution_count": 7,
   "id": "cbf1e7f5",
   "metadata": {
    "tags": [
     "TEACHER"
    ]
   },
   "outputs": [],
   "source": [
    "# TEACHER\n",
    "def down_sample_blk(in_channels, out_channels):\n",
    "    blk = []\n",
    "    for _ in range(2):\n",
    "        blk.append(nn.Conv2d(in_channels, out_channels,\n",
    "                             kernel_size=3, padding=1))\n",
    "        blk.append(nn.BatchNorm2d(out_channels))\n",
    "        blk.append(nn.ReLU())\n",
    "        in_channels = out_channels\n",
    "    blk.append(nn.MaxPool2d(2))\n",
    "    return nn.Sequential(*blk)"
   ]
  },
  {
   "cell_type": "markdown",
   "id": "a5c50576",
   "metadata": {
    "origin_pos": 17
   },
   "source": [
    "In the following example, our constructed downsampling block changes the number of input channels and halves the height and width of the input feature maps.\n"
   ]
  },
  {
   "cell_type": "code",
   "execution_count": 8,
   "id": "447a17df",
   "metadata": {
    "origin_pos": 19,
    "tab": [
     "pytorch"
    ]
   },
   "outputs": [
    {
     "data": {
      "text/plain": [
       "torch.Size([2, 10, 10, 10])"
      ]
     },
     "execution_count": 8,
     "metadata": {},
     "output_type": "execute_result"
    }
   ],
   "source": [
    "forward(torch.zeros((2, 3, 20, 20)), down_sample_blk(3, 10)).shape"
   ]
  },
  {
   "cell_type": "markdown",
   "id": "adb5668e",
   "metadata": {
    "origin_pos": 20
   },
   "source": [
    "### Base Network Block\n",
    "\n",
    "The base network block is used to extract features from input images.\n",
    "For simplicity,\n",
    "we construct a small base network\n",
    "consisting of three downsampling blocks\n",
    "that double the number of channels at each block.\n",
    "Given a $256\\times256$ input image,\n",
    "this base network block outputs $32 \\times 32$ feature maps ($256/2^3=32$).\n"
   ]
  },
  {
   "cell_type": "code",
   "execution_count": 9,
   "id": "58dbae9a",
   "metadata": {
    "origin_pos": 22,
    "tab": [
     "pytorch"
    ]
   },
   "outputs": [
    {
     "data": {
      "text/plain": [
       "torch.Size([2, 64, 32, 32])"
      ]
     },
     "execution_count": 9,
     "metadata": {},
     "output_type": "execute_result"
    }
   ],
   "source": [
    "def base_net():\n",
    "    blk = []\n",
    "    num_filters = [3, 16, 32, 64]\n",
    "    for i in range(len(num_filters) - 1):\n",
    "        blk.append(down_sample_blk(num_filters[i], num_filters[i+1]))\n",
    "    return nn.Sequential(*blk)\n",
    "\n",
    "forward(torch.zeros((2, 3, 256, 256)), base_net()).shape"
   ]
  },
  {
   "cell_type": "markdown",
   "id": "635319fc",
   "metadata": {
    "origin_pos": 23
   },
   "source": [
    "### The Complete Model\n",
    "\n",
    "\n",
    "**The complete\n",
    "single shot multibox detection model\n",
    "consists of five blocks.**\n",
    "The feature maps produced by each block\n",
    "are used for both\n",
    "(i) generating anchor boxes\n",
    "and (ii) predicting classes and offsets of these anchor boxes.\n",
    "Among these five blocks,\n",
    "the first one\n",
    "is the base network block,\n",
    "the second to the fourth are\n",
    "downsampling blocks,\n",
    "and the last block\n",
    "uses global max-pooling\n",
    "to reduce both the height and width to 1.\n",
    "Technically,\n",
    "the second to the fifth blocks\n",
    "are all\n",
    "those\n",
    "multiscale feature map blocks\n",
    "in the figure of the SSD architecture.\n"
   ]
  },
  {
   "cell_type": "code",
   "execution_count": 10,
   "id": "f4ceb17f",
   "metadata": {
    "origin_pos": 25,
    "tab": [
     "pytorch"
    ]
   },
   "outputs": [],
   "source": [
    "def get_blk(i):\n",
    "    if i == 0:\n",
    "        blk = base_net()\n",
    "    elif i == 1:\n",
    "        blk = down_sample_blk(64, 128)\n",
    "    elif i == 4:\n",
    "        blk = nn.AdaptiveMaxPool2d((1,1))\n",
    "    else:\n",
    "        blk = down_sample_blk(128, 128)\n",
    "    return blk"
   ]
  },
  {
   "cell_type": "markdown",
   "id": "9a105d63",
   "metadata": {
    "origin_pos": 26
   },
   "source": [
    "Now we **define the forward propagation**\n",
    "for each block.\n",
    "Different from\n",
    "in image classification tasks,\n",
    "outputs here include\n",
    "(i) CNN feature maps `Y`,\n",
    "(ii) anchor boxes generated using `Y` at the current scale,\n",
    "and (iii) classes and offsets predicted (based on `Y`)\n",
    "for these anchor boxes.\n"
   ]
  },
  {
   "cell_type": "code",
   "execution_count": 11,
   "id": "58b7be31",
   "metadata": {
    "origin_pos": 28,
    "tab": [
     "pytorch"
    ]
   },
   "outputs": [],
   "source": [
    "def blk_forward(X, blk, size, ratio, cls_predictor, bbox_predictor):\n",
    "    Y = blk(X)\n",
    "    anchors = d2l.multibox_prior(Y, sizes=size, ratios=ratio)\n",
    "    cls_preds = cls_predictor(Y)\n",
    "    bbox_preds = bbox_predictor(Y)\n",
    "    return (Y, anchors, cls_preds, bbox_preds)"
   ]
  },
  {
   "cell_type": "markdown",
   "id": "ddd2144a",
   "metadata": {
    "origin_pos": 29
   },
   "source": [
    "Recall that\n",
    "in the figure of the SSD architecture,\n",
    "a multiscale feature map block\n",
    "that is closer to the top\n",
    "is for detecting larger objects;\n",
    "thus, it needs to generate larger anchor boxes.\n",
    "In the above forward propagation,\n",
    "at each multiscale feature map block\n",
    "we pass in a list of two scale values\n",
    "via the `sizes` argument\n",
    "of the invoked `multibox_prior` function (described in [Part 2](./02-anchor-student.ipynb)).\n",
    "In the following,\n",
    "the interval between 0.2 and 1.05\n",
    "is split evenly\n",
    "into five sections to determine the\n",
    "smaller scale values at the five blocks: 0.2, 0.37, 0.54, 0.71, and 0.88.\n",
    "Then their larger scale values\n",
    "are given by\n",
    "$\\sqrt{0.2 \\times 0.37} = 0.272$, $\\sqrt{0.37 \\times 0.54} = 0.447$, and so on."
   ]
  },
  {
   "cell_type": "code",
   "execution_count": 12,
   "id": "5739c04d",
   "metadata": {
    "origin_pos": 30,
    "tab": [
     "pytorch"
    ]
   },
   "outputs": [],
   "source": [
    "sizes = [[0.2, 0.272], [0.37, 0.447], [0.54, 0.619], [0.71, 0.79],\n",
    "         [0.88, 0.961]]\n",
    "ratios = [[1, 2, 0.5]] * 5\n",
    "num_anchors = len(sizes[0]) + len(ratios[0]) - 1"
   ]
  },
  {
   "cell_type": "markdown",
   "id": "e53fd837",
   "metadata": {
    "origin_pos": 31
   },
   "source": [
    "Now we can **define the complete model** `TinySSD` as follows.\n"
   ]
  },
  {
   "cell_type": "code",
   "execution_count": 13,
   "id": "bebd9245",
   "metadata": {
    "origin_pos": 33,
    "tab": [
     "pytorch"
    ]
   },
   "outputs": [],
   "source": [
    "class TinySSD(nn.Module):\n",
    "    def __init__(self, num_classes, **kwargs):\n",
    "        super(TinySSD, self).__init__(**kwargs)\n",
    "        self.num_classes = num_classes\n",
    "        idx_to_in_channels = [64, 128, 128, 128, 128]\n",
    "        for i in range(5):\n",
    "            # Equivalent to the assignment statement `self.blk_i = get_blk(i)`\n",
    "            setattr(self, f'blk_{i}', get_blk(i))\n",
    "            setattr(self, f'cls_{i}', cls_predictor(idx_to_in_channels[i],\n",
    "                                                    num_anchors, num_classes))\n",
    "            setattr(self, f'bbox_{i}', bbox_predictor(idx_to_in_channels[i],\n",
    "                                                      num_anchors))\n",
    "\n",
    "    def forward(self, X):\n",
    "        anchors, cls_preds, bbox_preds = [None] * 5, [None] * 5, [None] * 5\n",
    "        for i in range(5):\n",
    "            # Here `getattr(self, 'blk_%d' % i)` accesses `self.blk_i`\n",
    "            X, anchors[i], cls_preds[i], bbox_preds[i] = blk_forward(\n",
    "                X, getattr(self, f'blk_{i}'), sizes[i], ratios[i],\n",
    "                getattr(self, f'cls_{i}'), getattr(self, f'bbox_{i}'))\n",
    "        anchors = torch.cat(anchors, dim=1)\n",
    "        cls_preds = concat_preds(cls_preds)\n",
    "        cls_preds = cls_preds.reshape(\n",
    "            cls_preds.shape[0], -1, self.num_classes + 1)\n",
    "        bbox_preds = concat_preds(bbox_preds)\n",
    "        return anchors, cls_preds, bbox_preds"
   ]
  },
  {
   "cell_type": "markdown",
   "id": "733601dd",
   "metadata": {
    "origin_pos": 34
   },
   "source": [
    "We **create a model instance\n",
    "and use it to perform forward propagation**\n",
    "on a minibatch of $256 \\times 256$ images `X`.\n",
    "\n",
    "As shown earlier in this section,\n",
    "the first block outputs $32 \\times 32$ feature maps.\n",
    "Recall that\n",
    "the second to fourth downsampling blocks\n",
    "halve the height and width\n",
    "and the fifth block uses global pooling.\n",
    "Since 4 anchor boxes\n",
    "are generated for each unit along spatial dimensions\n",
    "of feature maps,\n",
    "at all the five scales\n",
    "a total of $(32^2 + 16^2 + 8^2 + 4^2 + 1)\\times 4 = 5444$ anchor boxes are generated for each image.\n"
   ]
  },
  {
   "cell_type": "code",
   "execution_count": 14,
   "id": "f2dae565",
   "metadata": {
    "origin_pos": 36,
    "tab": [
     "pytorch"
    ]
   },
   "outputs": [
    {
     "name": "stdout",
     "output_type": "stream",
     "text": [
      "output anchors: torch.Size([1, 5444, 4])\n",
      "output class preds: torch.Size([32, 5444, 2])\n",
      "output bbox preds: torch.Size([32, 21776])\n"
     ]
    }
   ],
   "source": [
    "net = TinySSD(num_classes=1)\n",
    "X = torch.zeros((32, 3, 256, 256))\n",
    "anchors, cls_preds, bbox_preds = net(X)\n",
    "\n",
    "print('output anchors:', anchors.shape)\n",
    "print('output class preds:', cls_preds.shape)\n",
    "print('output bbox preds:', bbox_preds.shape)"
   ]
  },
  {
   "cell_type": "markdown",
   "id": "4fc36bf9",
   "metadata": {
    "origin_pos": 37
   },
   "source": [
    "## Training\n",
    "\n",
    "Now we will explain\n",
    "how to train the single shot multibox detection model\n",
    "for object detection.\n",
    "\n",
    "\n",
    "### Reading the Dataset and Initializing the Model\n",
    "\n",
    "To begin with,\n",
    "let's **read\n",
    "the banana detection dataset**\n",
    "described in [Part 4](./04-object-detection-dataset-student.ipynb).\n"
   ]
  },
  {
   "cell_type": "code",
   "execution_count": 15,
   "id": "f33b750b",
   "metadata": {},
   "outputs": [
    {
     "name": "stdout",
     "output_type": "stream",
     "text": [
      "read 1000 training examples\n",
      "read 100 validation examples\n"
     ]
    }
   ],
   "source": [
    "batch_size = 32\n",
    "train_iter, _ = d2l.load_data_bananas(batch_size)"
   ]
  },
  {
   "cell_type": "markdown",
   "id": "2a272773",
   "metadata": {
    "origin_pos": 39
   },
   "source": [
    "There is only one class in the banana detection dataset. After defining the model,\n",
    "we need to (**initialize its parameters and define\n",
    "the optimization algorithm**).\n"
   ]
  },
  {
   "cell_type": "code",
   "execution_count": 16,
   "id": "a1a62509",
   "metadata": {
    "origin_pos": 41,
    "tab": [
     "pytorch"
    ]
   },
   "outputs": [],
   "source": [
    "device, net = d2l.try_gpu(), TinySSD(num_classes=1)\n",
    "trainer = torch.optim.SGD(net.parameters(), lr=0.2, weight_decay=5e-4)"
   ]
  },
  {
   "cell_type": "markdown",
   "id": "6e2fa5cb",
   "metadata": {},
   "source": [
    "If you want, you can inspect the structure of the network by uncommenting the cell below."
   ]
  },
  {
   "cell_type": "code",
   "execution_count": null,
   "id": "378e7e9b-8411-41af-9f1d-268a7f2f379d",
   "metadata": {},
   "outputs": [],
   "source": [
    "#net"
   ]
  },
  {
   "cell_type": "code",
   "execution_count": 17,
   "id": "fb58a427",
   "metadata": {
    "tags": [
     "TEACHER"
    ]
   },
   "outputs": [
    {
     "data": {
      "text/plain": [
       "TinySSD(\n",
       "  (blk_0): Sequential(\n",
       "    (0): Sequential(\n",
       "      (0): Conv2d(3, 16, kernel_size=(3, 3), stride=(1, 1), padding=(1, 1))\n",
       "      (1): BatchNorm2d(16, eps=1e-05, momentum=0.1, affine=True, track_running_stats=True)\n",
       "      (2): ReLU()\n",
       "      (3): Conv2d(16, 16, kernel_size=(3, 3), stride=(1, 1), padding=(1, 1))\n",
       "      (4): BatchNorm2d(16, eps=1e-05, momentum=0.1, affine=True, track_running_stats=True)\n",
       "      (5): ReLU()\n",
       "      (6): MaxPool2d(kernel_size=2, stride=2, padding=0, dilation=1, ceil_mode=False)\n",
       "    )\n",
       "    (1): Sequential(\n",
       "      (0): Conv2d(16, 32, kernel_size=(3, 3), stride=(1, 1), padding=(1, 1))\n",
       "      (1): BatchNorm2d(32, eps=1e-05, momentum=0.1, affine=True, track_running_stats=True)\n",
       "      (2): ReLU()\n",
       "      (3): Conv2d(32, 32, kernel_size=(3, 3), stride=(1, 1), padding=(1, 1))\n",
       "      (4): BatchNorm2d(32, eps=1e-05, momentum=0.1, affine=True, track_running_stats=True)\n",
       "      (5): ReLU()\n",
       "      (6): MaxPool2d(kernel_size=2, stride=2, padding=0, dilation=1, ceil_mode=False)\n",
       "    )\n",
       "    (2): Sequential(\n",
       "      (0): Conv2d(32, 64, kernel_size=(3, 3), stride=(1, 1), padding=(1, 1))\n",
       "      (1): BatchNorm2d(64, eps=1e-05, momentum=0.1, affine=True, track_running_stats=True)\n",
       "      (2): ReLU()\n",
       "      (3): Conv2d(64, 64, kernel_size=(3, 3), stride=(1, 1), padding=(1, 1))\n",
       "      (4): BatchNorm2d(64, eps=1e-05, momentum=0.1, affine=True, track_running_stats=True)\n",
       "      (5): ReLU()\n",
       "      (6): MaxPool2d(kernel_size=2, stride=2, padding=0, dilation=1, ceil_mode=False)\n",
       "    )\n",
       "  )\n",
       "  (cls_0): Conv2d(64, 8, kernel_size=(3, 3), stride=(1, 1), padding=(1, 1))\n",
       "  (bbox_0): Conv2d(64, 16, kernel_size=(3, 3), stride=(1, 1), padding=(1, 1))\n",
       "  (blk_1): Sequential(\n",
       "    (0): Conv2d(64, 128, kernel_size=(3, 3), stride=(1, 1), padding=(1, 1))\n",
       "    (1): BatchNorm2d(128, eps=1e-05, momentum=0.1, affine=True, track_running_stats=True)\n",
       "    (2): ReLU()\n",
       "    (3): Conv2d(128, 128, kernel_size=(3, 3), stride=(1, 1), padding=(1, 1))\n",
       "    (4): BatchNorm2d(128, eps=1e-05, momentum=0.1, affine=True, track_running_stats=True)\n",
       "    (5): ReLU()\n",
       "    (6): MaxPool2d(kernel_size=2, stride=2, padding=0, dilation=1, ceil_mode=False)\n",
       "  )\n",
       "  (cls_1): Conv2d(128, 8, kernel_size=(3, 3), stride=(1, 1), padding=(1, 1))\n",
       "  (bbox_1): Conv2d(128, 16, kernel_size=(3, 3), stride=(1, 1), padding=(1, 1))\n",
       "  (blk_2): Sequential(\n",
       "    (0): Conv2d(128, 128, kernel_size=(3, 3), stride=(1, 1), padding=(1, 1))\n",
       "    (1): BatchNorm2d(128, eps=1e-05, momentum=0.1, affine=True, track_running_stats=True)\n",
       "    (2): ReLU()\n",
       "    (3): Conv2d(128, 128, kernel_size=(3, 3), stride=(1, 1), padding=(1, 1))\n",
       "    (4): BatchNorm2d(128, eps=1e-05, momentum=0.1, affine=True, track_running_stats=True)\n",
       "    (5): ReLU()\n",
       "    (6): MaxPool2d(kernel_size=2, stride=2, padding=0, dilation=1, ceil_mode=False)\n",
       "  )\n",
       "  (cls_2): Conv2d(128, 8, kernel_size=(3, 3), stride=(1, 1), padding=(1, 1))\n",
       "  (bbox_2): Conv2d(128, 16, kernel_size=(3, 3), stride=(1, 1), padding=(1, 1))\n",
       "  (blk_3): Sequential(\n",
       "    (0): Conv2d(128, 128, kernel_size=(3, 3), stride=(1, 1), padding=(1, 1))\n",
       "    (1): BatchNorm2d(128, eps=1e-05, momentum=0.1, affine=True, track_running_stats=True)\n",
       "    (2): ReLU()\n",
       "    (3): Conv2d(128, 128, kernel_size=(3, 3), stride=(1, 1), padding=(1, 1))\n",
       "    (4): BatchNorm2d(128, eps=1e-05, momentum=0.1, affine=True, track_running_stats=True)\n",
       "    (5): ReLU()\n",
       "    (6): MaxPool2d(kernel_size=2, stride=2, padding=0, dilation=1, ceil_mode=False)\n",
       "  )\n",
       "  (cls_3): Conv2d(128, 8, kernel_size=(3, 3), stride=(1, 1), padding=(1, 1))\n",
       "  (bbox_3): Conv2d(128, 16, kernel_size=(3, 3), stride=(1, 1), padding=(1, 1))\n",
       "  (blk_4): AdaptiveMaxPool2d(output_size=(1, 1))\n",
       "  (cls_4): Conv2d(128, 8, kernel_size=(3, 3), stride=(1, 1), padding=(1, 1))\n",
       "  (bbox_4): Conv2d(128, 16, kernel_size=(3, 3), stride=(1, 1), padding=(1, 1))\n",
       ")"
      ]
     },
     "execution_count": 17,
     "metadata": {},
     "output_type": "execute_result"
    }
   ],
   "source": [
    "# TEACHER\n",
    "net"
   ]
  },
  {
   "cell_type": "markdown",
   "id": "510a8464",
   "metadata": {},
   "source": [
    "We can get the total number of trainable parameters by counter the number of elements in each parameter:"
   ]
  },
  {
   "cell_type": "code",
   "execution_count": 18,
   "id": "c85a50b9-ab14-475b-9d6e-a193b61497ee",
   "metadata": {},
   "outputs": [
    {
     "data": {
      "text/plain": [
       "1010376"
      ]
     },
     "execution_count": 18,
     "metadata": {},
     "output_type": "execute_result"
    }
   ],
   "source": [
    "sum(p.numel() for p in net.parameters() if p.requires_grad)"
   ]
  },
  {
   "cell_type": "markdown",
   "id": "f4d0748c",
   "metadata": {
    "origin_pos": 42
   },
   "source": [
    "### **Defining Loss and Evaluation Functions**\n",
    "\n",
    "Object detection has **two types of losses**.\n",
    "The first loss concerns **classes of anchor boxes**:\n",
    "its computation\n",
    "can simply reuse\n",
    "the **cross-entropy loss function**\n",
    "that we use for image classification.\n",
    "The second loss\n",
    "concerns **offsets of positive (non-background) anchor boxes**:\n",
    "this is a **regression problem**.\n",
    "For this regression problem,\n",
    "however,\n",
    "here we do not use the squared loss\n",
    "described.\n",
    "Instead,\n",
    "we **use the $\\ell_1$ norm loss**,\n",
    "the absolute value of the difference between\n",
    "the prediction and the ground-truth.\n",
    "The mask variable `bbox_masks` filters out\n",
    "negative anchor boxes and illegal (padded)\n",
    "anchor boxes in the loss calculation.\n",
    "In the end, we sum up\n",
    "the anchor box class loss\n",
    "and the anchor box offset loss\n",
    "to obtain the loss function for the model.\n"
   ]
  },
  {
   "cell_type": "markdown",
   "id": "da8c9e6a",
   "metadata": {},
   "source": [
    "### Your turn\n",
    "> Fix the definitions of the following loss functions to comply with the previous explanations.\n",
    ">"
   ]
  },
  {
   "cell_type": "code",
   "execution_count": null,
   "id": "fb487051",
   "metadata": {
    "origin_pos": 44,
    "tab": [
     "pytorch"
    ]
   },
   "outputs": [],
   "source": [
    "cls_loss = nn.????(reduction='none')\n",
    "bbox_loss = nn.????(reduction='none')"
   ]
  },
  {
   "cell_type": "code",
   "execution_count": 19,
   "id": "addf843d",
   "metadata": {
    "tags": [
     "TEACHER"
    ]
   },
   "outputs": [],
   "source": [
    "# TEACHER\n",
    "cls_loss = nn.CrossEntropyLoss(reduction='none')\n",
    "bbox_loss = nn.L1Loss(reduction='none')"
   ]
  },
  {
   "cell_type": "code",
   "execution_count": 20,
   "id": "223c421e",
   "metadata": {},
   "outputs": [],
   "source": [
    "\n",
    "def calc_loss(cls_preds, cls_labels, bbox_preds, bbox_labels, bbox_masks):\n",
    "    batch_size, num_classes = cls_preds.shape[0], cls_preds.shape[2]\n",
    "    cls = cls_loss(cls_preds.reshape(-1, num_classes),\n",
    "                   cls_labels.reshape(-1)).reshape(batch_size, -1).mean(dim=1)\n",
    "    bbox = bbox_loss(bbox_preds * bbox_masks,\n",
    "                     bbox_labels * bbox_masks).mean(dim=1)\n",
    "    return cls + bbox"
   ]
  },
  {
   "cell_type": "markdown",
   "id": "698d6678",
   "metadata": {
    "origin_pos": 45
   },
   "source": [
    "We can use accuracy to evaluate the classification results.\n",
    "Due to the used $\\ell_1$ norm loss for the offsets,\n",
    "we use the *mean absolute error* to evaluate the\n",
    "predicted bounding boxes.\n",
    "These prediction results are obtained\n",
    "from the generated anchor boxes and the\n",
    "predicted offsets for them.\n"
   ]
  },
  {
   "cell_type": "code",
   "execution_count": 21,
   "id": "9222816a",
   "metadata": {
    "origin_pos": 47,
    "tab": [
     "pytorch"
    ]
   },
   "outputs": [],
   "source": [
    "def cls_eval(cls_preds, cls_labels):\n",
    "    # Because the class prediction results are on the final dimension,\n",
    "    # `argmax` needs to specify this dimension\n",
    "    return float((cls_preds.argmax(dim=-1).type(\n",
    "        cls_labels.dtype) == cls_labels).sum())\n",
    "\n",
    "def bbox_eval(bbox_preds, bbox_labels, bbox_masks):\n",
    "    return float((torch.abs((bbox_labels - bbox_preds) * bbox_masks)).sum())"
   ]
  },
  {
   "cell_type": "markdown",
   "id": "986e6713",
   "metadata": {
    "origin_pos": 48
   },
   "source": [
    "### **Training the Model**\n",
    "\n",
    "When training the model,\n",
    "we need to generate multiscale anchor boxes (`anchors`)\n",
    "and predict their classes (`cls_preds`) and offsets (`bbox_preds`) in the forward propagation.\n",
    "Then we label the classes (`cls_labels`) and offsets (`bbox_labels`) of such generated anchor boxes\n",
    "based on the label information `Y`.\n",
    "Finally, we calculate the loss function\n",
    "using the predicted and labeled values\n",
    "of the classes and offsets.\n",
    "For concise implementations,\n",
    "evaluation of the test dataset is omitted here.\n"
   ]
  },
  {
   "cell_type": "code",
   "execution_count": null,
   "id": "77061b05",
   "metadata": {},
   "outputs": [
    {
     "data": {
      "image/svg+xml": [
       "<?xml version=\"1.0\" encoding=\"utf-8\" standalone=\"no\"?>\n",
       "<!DOCTYPE svg PUBLIC \"-//W3C//DTD SVG 1.1//EN\"\n",
       "  \"http://www.w3.org/Graphics/SVG/1.1/DTD/svg11.dtd\">\n",
       "<svg xmlns:xlink=\"http://www.w3.org/1999/xlink\" width=\"251.690625pt\" height=\"183.35625pt\" viewBox=\"0 0 251.690625 183.35625\" xmlns=\"http://www.w3.org/2000/svg\" version=\"1.1\">\n",
       " <metadata>\n",
       "  <rdf:RDF xmlns:dc=\"http://purl.org/dc/elements/1.1/\" xmlns:cc=\"http://creativecommons.org/ns#\" xmlns:rdf=\"http://www.w3.org/1999/02/22-rdf-syntax-ns#\">\n",
       "   <cc:Work>\n",
       "    <dc:type rdf:resource=\"http://purl.org/dc/dcmitype/StillImage\"/>\n",
       "    <dc:date>2023-11-09T14:08:25.018795</dc:date>\n",
       "    <dc:format>image/svg+xml</dc:format>\n",
       "    <dc:creator>\n",
       "     <cc:Agent>\n",
       "      <dc:title>Matplotlib v3.7.2, https://matplotlib.org/</dc:title>\n",
       "     </cc:Agent>\n",
       "    </dc:creator>\n",
       "   </cc:Work>\n",
       "  </rdf:RDF>\n",
       " </metadata>\n",
       " <defs>\n",
       "  <style type=\"text/css\">*{stroke-linejoin: round; stroke-linecap: butt}</style>\n",
       " </defs>\n",
       " <g id=\"figure_1\">\n",
       "  <g id=\"patch_1\">\n",
       "   <path d=\"M 0 183.35625 \n",
       "L 251.690625 183.35625 \n",
       "L 251.690625 0 \n",
       "L 0 0 \n",
       "z\n",
       "\" style=\"fill: #ffffff\"/>\n",
       "  </g>\n",
       "  <g id=\"axes_1\">\n",
       "   <g id=\"patch_2\">\n",
       "    <path d=\"M 42.828125 145.8 \n",
       "L 238.128125 145.8 \n",
       "L 238.128125 7.2 \n",
       "L 42.828125 7.2 \n",
       "z\n",
       "\" style=\"fill: #ffffff\"/>\n",
       "   </g>\n",
       "   <g id=\"matplotlib.axis_1\">\n",
       "    <g id=\"xtick_1\">\n",
       "     <g id=\"line2d_1\">\n",
       "      <path d=\"M 83.943914 145.8 \n",
       "L 83.943914 7.2 \n",
       "\" clip-path=\"url(#p598dbccb40)\" style=\"fill: none; stroke: #b0b0b0; stroke-width: 0.8; stroke-linecap: square\"/>\n",
       "     </g>\n",
       "     <g id=\"line2d_2\">\n",
       "      <defs>\n",
       "       <path id=\"mbd859c3a79\" d=\"M 0 0 \n",
       "L 0 3.5 \n",
       "\" style=\"stroke: #000000; stroke-width: 0.8\"/>\n",
       "      </defs>\n",
       "      <g>\n",
       "       <use xlink:href=\"#mbd859c3a79\" x=\"83.943914\" y=\"145.8\" style=\"stroke: #000000; stroke-width: 0.8\"/>\n",
       "      </g>\n",
       "     </g>\n",
       "     <g id=\"text_1\">\n",
       "      <!-- 5 -->\n",
       "      <g transform=\"translate(80.762664 160.398438) scale(0.1 -0.1)\">\n",
       "       <defs>\n",
       "        <path id=\"DejaVuSans-35\" d=\"M 691 4666 \n",
       "L 3169 4666 \n",
       "L 3169 4134 \n",
       "L 1269 4134 \n",
       "L 1269 2991 \n",
       "Q 1406 3038 1543 3061 \n",
       "Q 1681 3084 1819 3084 \n",
       "Q 2600 3084 3056 2656 \n",
       "Q 3513 2228 3513 1497 \n",
       "Q 3513 744 3044 326 \n",
       "Q 2575 -91 1722 -91 \n",
       "Q 1428 -91 1123 -41 \n",
       "Q 819 9 494 109 \n",
       "L 494 744 \n",
       "Q 775 591 1075 516 \n",
       "Q 1375 441 1709 441 \n",
       "Q 2250 441 2565 725 \n",
       "Q 2881 1009 2881 1497 \n",
       "Q 2881 1984 2565 2268 \n",
       "Q 2250 2553 1709 2553 \n",
       "Q 1456 2553 1204 2497 \n",
       "Q 953 2441 691 2322 \n",
       "L 691 4666 \n",
       "z\n",
       "\" transform=\"scale(0.015625)\"/>\n",
       "       </defs>\n",
       "       <use xlink:href=\"#DejaVuSans-35\"/>\n",
       "      </g>\n",
       "     </g>\n",
       "    </g>\n",
       "    <g id=\"xtick_2\">\n",
       "     <g id=\"line2d_3\">\n",
       "      <path d=\"M 135.338651 145.8 \n",
       "L 135.338651 7.2 \n",
       "\" clip-path=\"url(#p598dbccb40)\" style=\"fill: none; stroke: #b0b0b0; stroke-width: 0.8; stroke-linecap: square\"/>\n",
       "     </g>\n",
       "     <g id=\"line2d_4\">\n",
       "      <g>\n",
       "       <use xlink:href=\"#mbd859c3a79\" x=\"135.338651\" y=\"145.8\" style=\"stroke: #000000; stroke-width: 0.8\"/>\n",
       "      </g>\n",
       "     </g>\n",
       "     <g id=\"text_2\">\n",
       "      <!-- 10 -->\n",
       "      <g transform=\"translate(128.976151 160.398438) scale(0.1 -0.1)\">\n",
       "       <defs>\n",
       "        <path id=\"DejaVuSans-31\" d=\"M 794 531 \n",
       "L 1825 531 \n",
       "L 1825 4091 \n",
       "L 703 3866 \n",
       "L 703 4441 \n",
       "L 1819 4666 \n",
       "L 2450 4666 \n",
       "L 2450 531 \n",
       "L 3481 531 \n",
       "L 3481 0 \n",
       "L 794 0 \n",
       "L 794 531 \n",
       "z\n",
       "\" transform=\"scale(0.015625)\"/>\n",
       "        <path id=\"DejaVuSans-30\" d=\"M 2034 4250 \n",
       "Q 1547 4250 1301 3770 \n",
       "Q 1056 3291 1056 2328 \n",
       "Q 1056 1369 1301 889 \n",
       "Q 1547 409 2034 409 \n",
       "Q 2525 409 2770 889 \n",
       "Q 3016 1369 3016 2328 \n",
       "Q 3016 3291 2770 3770 \n",
       "Q 2525 4250 2034 4250 \n",
       "z\n",
       "M 2034 4750 \n",
       "Q 2819 4750 3233 4129 \n",
       "Q 3647 3509 3647 2328 \n",
       "Q 3647 1150 3233 529 \n",
       "Q 2819 -91 2034 -91 \n",
       "Q 1250 -91 836 529 \n",
       "Q 422 1150 422 2328 \n",
       "Q 422 3509 836 4129 \n",
       "Q 1250 4750 2034 4750 \n",
       "z\n",
       "\" transform=\"scale(0.015625)\"/>\n",
       "       </defs>\n",
       "       <use xlink:href=\"#DejaVuSans-31\"/>\n",
       "       <use xlink:href=\"#DejaVuSans-30\" x=\"63.623047\"/>\n",
       "      </g>\n",
       "     </g>\n",
       "    </g>\n",
       "    <g id=\"xtick_3\">\n",
       "     <g id=\"line2d_5\">\n",
       "      <path d=\"M 186.733388 145.8 \n",
       "L 186.733388 7.2 \n",
       "\" clip-path=\"url(#p598dbccb40)\" style=\"fill: none; stroke: #b0b0b0; stroke-width: 0.8; stroke-linecap: square\"/>\n",
       "     </g>\n",
       "     <g id=\"line2d_6\">\n",
       "      <g>\n",
       "       <use xlink:href=\"#mbd859c3a79\" x=\"186.733388\" y=\"145.8\" style=\"stroke: #000000; stroke-width: 0.8\"/>\n",
       "      </g>\n",
       "     </g>\n",
       "     <g id=\"text_3\">\n",
       "      <!-- 15 -->\n",
       "      <g transform=\"translate(180.370888 160.398438) scale(0.1 -0.1)\">\n",
       "       <use xlink:href=\"#DejaVuSans-31\"/>\n",
       "       <use xlink:href=\"#DejaVuSans-35\" x=\"63.623047\"/>\n",
       "      </g>\n",
       "     </g>\n",
       "    </g>\n",
       "    <g id=\"xtick_4\">\n",
       "     <g id=\"line2d_7\">\n",
       "      <path d=\"M 238.128125 145.8 \n",
       "L 238.128125 7.2 \n",
       "\" clip-path=\"url(#p598dbccb40)\" style=\"fill: none; stroke: #b0b0b0; stroke-width: 0.8; stroke-linecap: square\"/>\n",
       "     </g>\n",
       "     <g id=\"line2d_8\">\n",
       "      <g>\n",
       "       <use xlink:href=\"#mbd859c3a79\" x=\"238.128125\" y=\"145.8\" style=\"stroke: #000000; stroke-width: 0.8\"/>\n",
       "      </g>\n",
       "     </g>\n",
       "     <g id=\"text_4\">\n",
       "      <!-- 20 -->\n",
       "      <g transform=\"translate(231.765625 160.398438) scale(0.1 -0.1)\">\n",
       "       <defs>\n",
       "        <path id=\"DejaVuSans-32\" d=\"M 1228 531 \n",
       "L 3431 531 \n",
       "L 3431 0 \n",
       "L 469 0 \n",
       "L 469 531 \n",
       "Q 828 903 1448 1529 \n",
       "Q 2069 2156 2228 2338 \n",
       "Q 2531 2678 2651 2914 \n",
       "Q 2772 3150 2772 3378 \n",
       "Q 2772 3750 2511 3984 \n",
       "Q 2250 4219 1831 4219 \n",
       "Q 1534 4219 1204 4116 \n",
       "Q 875 4013 500 3803 \n",
       "L 500 4441 \n",
       "Q 881 4594 1212 4672 \n",
       "Q 1544 4750 1819 4750 \n",
       "Q 2544 4750 2975 4387 \n",
       "Q 3406 4025 3406 3419 \n",
       "Q 3406 3131 3298 2873 \n",
       "Q 3191 2616 2906 2266 \n",
       "Q 2828 2175 2409 1742 \n",
       "Q 1991 1309 1228 531 \n",
       "z\n",
       "\" transform=\"scale(0.015625)\"/>\n",
       "       </defs>\n",
       "       <use xlink:href=\"#DejaVuSans-32\"/>\n",
       "       <use xlink:href=\"#DejaVuSans-30\" x=\"63.623047\"/>\n",
       "      </g>\n",
       "     </g>\n",
       "    </g>\n",
       "    <g id=\"text_5\">\n",
       "     <!-- epoch -->\n",
       "     <g transform=\"translate(125.25 174.076563) scale(0.1 -0.1)\">\n",
       "      <defs>\n",
       "       <path id=\"DejaVuSans-65\" d=\"M 3597 1894 \n",
       "L 3597 1613 \n",
       "L 953 1613 \n",
       "Q 991 1019 1311 708 \n",
       "Q 1631 397 2203 397 \n",
       "Q 2534 397 2845 478 \n",
       "Q 3156 559 3463 722 \n",
       "L 3463 178 \n",
       "Q 3153 47 2828 -22 \n",
       "Q 2503 -91 2169 -91 \n",
       "Q 1331 -91 842 396 \n",
       "Q 353 884 353 1716 \n",
       "Q 353 2575 817 3079 \n",
       "Q 1281 3584 2069 3584 \n",
       "Q 2775 3584 3186 3129 \n",
       "Q 3597 2675 3597 1894 \n",
       "z\n",
       "M 3022 2063 \n",
       "Q 3016 2534 2758 2815 \n",
       "Q 2500 3097 2075 3097 \n",
       "Q 1594 3097 1305 2825 \n",
       "Q 1016 2553 972 2059 \n",
       "L 3022 2063 \n",
       "z\n",
       "\" transform=\"scale(0.015625)\"/>\n",
       "       <path id=\"DejaVuSans-70\" d=\"M 1159 525 \n",
       "L 1159 -1331 \n",
       "L 581 -1331 \n",
       "L 581 3500 \n",
       "L 1159 3500 \n",
       "L 1159 2969 \n",
       "Q 1341 3281 1617 3432 \n",
       "Q 1894 3584 2278 3584 \n",
       "Q 2916 3584 3314 3078 \n",
       "Q 3713 2572 3713 1747 \n",
       "Q 3713 922 3314 415 \n",
       "Q 2916 -91 2278 -91 \n",
       "Q 1894 -91 1617 61 \n",
       "Q 1341 213 1159 525 \n",
       "z\n",
       "M 3116 1747 \n",
       "Q 3116 2381 2855 2742 \n",
       "Q 2594 3103 2138 3103 \n",
       "Q 1681 3103 1420 2742 \n",
       "Q 1159 2381 1159 1747 \n",
       "Q 1159 1113 1420 752 \n",
       "Q 1681 391 2138 391 \n",
       "Q 2594 391 2855 752 \n",
       "Q 3116 1113 3116 1747 \n",
       "z\n",
       "\" transform=\"scale(0.015625)\"/>\n",
       "       <path id=\"DejaVuSans-6f\" d=\"M 1959 3097 \n",
       "Q 1497 3097 1228 2736 \n",
       "Q 959 2375 959 1747 \n",
       "Q 959 1119 1226 758 \n",
       "Q 1494 397 1959 397 \n",
       "Q 2419 397 2687 759 \n",
       "Q 2956 1122 2956 1747 \n",
       "Q 2956 2369 2687 2733 \n",
       "Q 2419 3097 1959 3097 \n",
       "z\n",
       "M 1959 3584 \n",
       "Q 2709 3584 3137 3096 \n",
       "Q 3566 2609 3566 1747 \n",
       "Q 3566 888 3137 398 \n",
       "Q 2709 -91 1959 -91 \n",
       "Q 1206 -91 779 398 \n",
       "Q 353 888 353 1747 \n",
       "Q 353 2609 779 3096 \n",
       "Q 1206 3584 1959 3584 \n",
       "z\n",
       "\" transform=\"scale(0.015625)\"/>\n",
       "       <path id=\"DejaVuSans-63\" d=\"M 3122 3366 \n",
       "L 3122 2828 \n",
       "Q 2878 2963 2633 3030 \n",
       "Q 2388 3097 2138 3097 \n",
       "Q 1578 3097 1268 2742 \n",
       "Q 959 2388 959 1747 \n",
       "Q 959 1106 1268 751 \n",
       "Q 1578 397 2138 397 \n",
       "Q 2388 397 2633 464 \n",
       "Q 2878 531 3122 666 \n",
       "L 3122 134 \n",
       "Q 2881 22 2623 -34 \n",
       "Q 2366 -91 2075 -91 \n",
       "Q 1284 -91 818 406 \n",
       "Q 353 903 353 1747 \n",
       "Q 353 2603 823 3093 \n",
       "Q 1294 3584 2113 3584 \n",
       "Q 2378 3584 2631 3529 \n",
       "Q 2884 3475 3122 3366 \n",
       "z\n",
       "\" transform=\"scale(0.015625)\"/>\n",
       "       <path id=\"DejaVuSans-68\" d=\"M 3513 2113 \n",
       "L 3513 0 \n",
       "L 2938 0 \n",
       "L 2938 2094 \n",
       "Q 2938 2591 2744 2837 \n",
       "Q 2550 3084 2163 3084 \n",
       "Q 1697 3084 1428 2787 \n",
       "Q 1159 2491 1159 1978 \n",
       "L 1159 0 \n",
       "L 581 0 \n",
       "L 581 4863 \n",
       "L 1159 4863 \n",
       "L 1159 2956 \n",
       "Q 1366 3272 1645 3428 \n",
       "Q 1925 3584 2291 3584 \n",
       "Q 2894 3584 3203 3211 \n",
       "Q 3513 2838 3513 2113 \n",
       "z\n",
       "\" transform=\"scale(0.015625)\"/>\n",
       "      </defs>\n",
       "      <use xlink:href=\"#DejaVuSans-65\"/>\n",
       "      <use xlink:href=\"#DejaVuSans-70\" x=\"61.523438\"/>\n",
       "      <use xlink:href=\"#DejaVuSans-6f\" x=\"125\"/>\n",
       "      <use xlink:href=\"#DejaVuSans-63\" x=\"186.181641\"/>\n",
       "      <use xlink:href=\"#DejaVuSans-68\" x=\"241.162109\"/>\n",
       "     </g>\n",
       "    </g>\n",
       "   </g>\n",
       "   <g id=\"matplotlib.axis_2\">\n",
       "    <g id=\"ytick_1\">\n",
       "     <g id=\"line2d_9\">\n",
       "      <path d=\"M 42.828125 136.905203 \n",
       "L 238.128125 136.905203 \n",
       "\" clip-path=\"url(#p598dbccb40)\" style=\"fill: none; stroke: #b0b0b0; stroke-width: 0.8; stroke-linecap: square\"/>\n",
       "     </g>\n",
       "     <g id=\"line2d_10\">\n",
       "      <defs>\n",
       "       <path id=\"mefba09023f\" d=\"M 0 0 \n",
       "L -3.5 0 \n",
       "\" style=\"stroke: #000000; stroke-width: 0.8\"/>\n",
       "      </defs>\n",
       "      <g>\n",
       "       <use xlink:href=\"#mefba09023f\" x=\"42.828125\" y=\"136.905203\" style=\"stroke: #000000; stroke-width: 0.8\"/>\n",
       "      </g>\n",
       "     </g>\n",
       "     <g id=\"text_6\">\n",
       "      <!-- 0.005 -->\n",
       "      <g transform=\"translate(7.2 140.704422) scale(0.1 -0.1)\">\n",
       "       <defs>\n",
       "        <path id=\"DejaVuSans-2e\" d=\"M 684 794 \n",
       "L 1344 794 \n",
       "L 1344 0 \n",
       "L 684 0 \n",
       "L 684 794 \n",
       "z\n",
       "\" transform=\"scale(0.015625)\"/>\n",
       "       </defs>\n",
       "       <use xlink:href=\"#DejaVuSans-30\"/>\n",
       "       <use xlink:href=\"#DejaVuSans-2e\" x=\"63.623047\"/>\n",
       "       <use xlink:href=\"#DejaVuSans-30\" x=\"95.410156\"/>\n",
       "       <use xlink:href=\"#DejaVuSans-30\" x=\"159.033203\"/>\n",
       "       <use xlink:href=\"#DejaVuSans-35\" x=\"222.65625\"/>\n",
       "      </g>\n",
       "     </g>\n",
       "    </g>\n",
       "    <g id=\"ytick_2\">\n",
       "     <g id=\"line2d_11\">\n",
       "      <path d=\"M 42.828125 103.02907 \n",
       "L 238.128125 103.02907 \n",
       "\" clip-path=\"url(#p598dbccb40)\" style=\"fill: none; stroke: #b0b0b0; stroke-width: 0.8; stroke-linecap: square\"/>\n",
       "     </g>\n",
       "     <g id=\"line2d_12\">\n",
       "      <g>\n",
       "       <use xlink:href=\"#mefba09023f\" x=\"42.828125\" y=\"103.02907\" style=\"stroke: #000000; stroke-width: 0.8\"/>\n",
       "      </g>\n",
       "     </g>\n",
       "     <g id=\"text_7\">\n",
       "      <!-- 0.010 -->\n",
       "      <g transform=\"translate(7.2 106.828289) scale(0.1 -0.1)\">\n",
       "       <use xlink:href=\"#DejaVuSans-30\"/>\n",
       "       <use xlink:href=\"#DejaVuSans-2e\" x=\"63.623047\"/>\n",
       "       <use xlink:href=\"#DejaVuSans-30\" x=\"95.410156\"/>\n",
       "       <use xlink:href=\"#DejaVuSans-31\" x=\"159.033203\"/>\n",
       "       <use xlink:href=\"#DejaVuSans-30\" x=\"222.65625\"/>\n",
       "      </g>\n",
       "     </g>\n",
       "    </g>\n",
       "    <g id=\"ytick_3\">\n",
       "     <g id=\"line2d_13\">\n",
       "      <path d=\"M 42.828125 69.152937 \n",
       "L 238.128125 69.152937 \n",
       "\" clip-path=\"url(#p598dbccb40)\" style=\"fill: none; stroke: #b0b0b0; stroke-width: 0.8; stroke-linecap: square\"/>\n",
       "     </g>\n",
       "     <g id=\"line2d_14\">\n",
       "      <g>\n",
       "       <use xlink:href=\"#mefba09023f\" x=\"42.828125\" y=\"69.152937\" style=\"stroke: #000000; stroke-width: 0.8\"/>\n",
       "      </g>\n",
       "     </g>\n",
       "     <g id=\"text_8\">\n",
       "      <!-- 0.015 -->\n",
       "      <g transform=\"translate(7.2 72.952155) scale(0.1 -0.1)\">\n",
       "       <use xlink:href=\"#DejaVuSans-30\"/>\n",
       "       <use xlink:href=\"#DejaVuSans-2e\" x=\"63.623047\"/>\n",
       "       <use xlink:href=\"#DejaVuSans-30\" x=\"95.410156\"/>\n",
       "       <use xlink:href=\"#DejaVuSans-31\" x=\"159.033203\"/>\n",
       "       <use xlink:href=\"#DejaVuSans-35\" x=\"222.65625\"/>\n",
       "      </g>\n",
       "     </g>\n",
       "    </g>\n",
       "    <g id=\"ytick_4\">\n",
       "     <g id=\"line2d_15\">\n",
       "      <path d=\"M 42.828125 35.276803 \n",
       "L 238.128125 35.276803 \n",
       "\" clip-path=\"url(#p598dbccb40)\" style=\"fill: none; stroke: #b0b0b0; stroke-width: 0.8; stroke-linecap: square\"/>\n",
       "     </g>\n",
       "     <g id=\"line2d_16\">\n",
       "      <g>\n",
       "       <use xlink:href=\"#mefba09023f\" x=\"42.828125\" y=\"35.276803\" style=\"stroke: #000000; stroke-width: 0.8\"/>\n",
       "      </g>\n",
       "     </g>\n",
       "     <g id=\"text_9\">\n",
       "      <!-- 0.020 -->\n",
       "      <g transform=\"translate(7.2 39.076022) scale(0.1 -0.1)\">\n",
       "       <use xlink:href=\"#DejaVuSans-30\"/>\n",
       "       <use xlink:href=\"#DejaVuSans-2e\" x=\"63.623047\"/>\n",
       "       <use xlink:href=\"#DejaVuSans-30\" x=\"95.410156\"/>\n",
       "       <use xlink:href=\"#DejaVuSans-32\" x=\"159.033203\"/>\n",
       "       <use xlink:href=\"#DejaVuSans-30\" x=\"222.65625\"/>\n",
       "      </g>\n",
       "     </g>\n",
       "    </g>\n",
       "   </g>\n",
       "   <g id=\"line2d_17\">\n",
       "    <path d=\"M 42.828125 13.5 \n",
       "L 53.107072 137.639477 \n",
       "L 63.38602 138.510648 \n",
       "\" clip-path=\"url(#p598dbccb40)\" style=\"fill: none; stroke: #1f77b4; stroke-width: 1.5; stroke-linecap: square\"/>\n",
       "   </g>\n",
       "   <g id=\"line2d_18\">\n",
       "    <path d=\"M 42.828125 135.661751 \n",
       "L 53.107072 137.993583 \n",
       "L 63.38602 139.5 \n",
       "\" clip-path=\"url(#p598dbccb40)\" style=\"fill: none; stroke-dasharray: 5.55,2.4; stroke-dashoffset: 0; stroke: #bf00bf; stroke-width: 1.5\"/>\n",
       "   </g>\n",
       "   <g id=\"patch_3\">\n",
       "    <path d=\"M 42.828125 145.8 \n",
       "L 42.828125 7.2 \n",
       "\" style=\"fill: none; stroke: #000000; stroke-width: 0.8; stroke-linejoin: miter; stroke-linecap: square\"/>\n",
       "   </g>\n",
       "   <g id=\"patch_4\">\n",
       "    <path d=\"M 238.128125 145.8 \n",
       "L 238.128125 7.2 \n",
       "\" style=\"fill: none; stroke: #000000; stroke-width: 0.8; stroke-linejoin: miter; stroke-linecap: square\"/>\n",
       "   </g>\n",
       "   <g id=\"patch_5\">\n",
       "    <path d=\"M 42.828125 145.8 \n",
       "L 238.128125 145.8 \n",
       "\" style=\"fill: none; stroke: #000000; stroke-width: 0.8; stroke-linejoin: miter; stroke-linecap: square\"/>\n",
       "   </g>\n",
       "   <g id=\"patch_6\">\n",
       "    <path d=\"M 42.828125 7.2 \n",
       "L 238.128125 7.2 \n",
       "\" style=\"fill: none; stroke: #000000; stroke-width: 0.8; stroke-linejoin: miter; stroke-linecap: square\"/>\n",
       "   </g>\n",
       "   <g id=\"legend_1\">\n",
       "    <g id=\"patch_7\">\n",
       "     <path d=\"M 146.921875 44.55625 \n",
       "L 231.128125 44.55625 \n",
       "Q 233.128125 44.55625 233.128125 42.55625 \n",
       "L 233.128125 14.2 \n",
       "Q 233.128125 12.2 231.128125 12.2 \n",
       "L 146.921875 12.2 \n",
       "Q 144.921875 12.2 144.921875 14.2 \n",
       "L 144.921875 42.55625 \n",
       "Q 144.921875 44.55625 146.921875 44.55625 \n",
       "z\n",
       "\" style=\"fill: #ffffff; opacity: 0.8; stroke: #cccccc; stroke-linejoin: miter\"/>\n",
       "    </g>\n",
       "    <g id=\"line2d_19\">\n",
       "     <path d=\"M 148.921875 20.298438 \n",
       "L 158.921875 20.298438 \n",
       "L 168.921875 20.298438 \n",
       "\" style=\"fill: none; stroke: #1f77b4; stroke-width: 1.5; stroke-linecap: square\"/>\n",
       "    </g>\n",
       "    <g id=\"text_10\">\n",
       "     <!-- class error -->\n",
       "     <g transform=\"translate(176.921875 23.798438) scale(0.1 -0.1)\">\n",
       "      <defs>\n",
       "       <path id=\"DejaVuSans-6c\" d=\"M 603 4863 \n",
       "L 1178 4863 \n",
       "L 1178 0 \n",
       "L 603 0 \n",
       "L 603 4863 \n",
       "z\n",
       "\" transform=\"scale(0.015625)\"/>\n",
       "       <path id=\"DejaVuSans-61\" d=\"M 2194 1759 \n",
       "Q 1497 1759 1228 1600 \n",
       "Q 959 1441 959 1056 \n",
       "Q 959 750 1161 570 \n",
       "Q 1363 391 1709 391 \n",
       "Q 2188 391 2477 730 \n",
       "Q 2766 1069 2766 1631 \n",
       "L 2766 1759 \n",
       "L 2194 1759 \n",
       "z\n",
       "M 3341 1997 \n",
       "L 3341 0 \n",
       "L 2766 0 \n",
       "L 2766 531 \n",
       "Q 2569 213 2275 61 \n",
       "Q 1981 -91 1556 -91 \n",
       "Q 1019 -91 701 211 \n",
       "Q 384 513 384 1019 \n",
       "Q 384 1609 779 1909 \n",
       "Q 1175 2209 1959 2209 \n",
       "L 2766 2209 \n",
       "L 2766 2266 \n",
       "Q 2766 2663 2505 2880 \n",
       "Q 2244 3097 1772 3097 \n",
       "Q 1472 3097 1187 3025 \n",
       "Q 903 2953 641 2809 \n",
       "L 641 3341 \n",
       "Q 956 3463 1253 3523 \n",
       "Q 1550 3584 1831 3584 \n",
       "Q 2591 3584 2966 3190 \n",
       "Q 3341 2797 3341 1997 \n",
       "z\n",
       "\" transform=\"scale(0.015625)\"/>\n",
       "       <path id=\"DejaVuSans-73\" d=\"M 2834 3397 \n",
       "L 2834 2853 \n",
       "Q 2591 2978 2328 3040 \n",
       "Q 2066 3103 1784 3103 \n",
       "Q 1356 3103 1142 2972 \n",
       "Q 928 2841 928 2578 \n",
       "Q 928 2378 1081 2264 \n",
       "Q 1234 2150 1697 2047 \n",
       "L 1894 2003 \n",
       "Q 2506 1872 2764 1633 \n",
       "Q 3022 1394 3022 966 \n",
       "Q 3022 478 2636 193 \n",
       "Q 2250 -91 1575 -91 \n",
       "Q 1294 -91 989 -36 \n",
       "Q 684 19 347 128 \n",
       "L 347 722 \n",
       "Q 666 556 975 473 \n",
       "Q 1284 391 1588 391 \n",
       "Q 1994 391 2212 530 \n",
       "Q 2431 669 2431 922 \n",
       "Q 2431 1156 2273 1281 \n",
       "Q 2116 1406 1581 1522 \n",
       "L 1381 1569 \n",
       "Q 847 1681 609 1914 \n",
       "Q 372 2147 372 2553 \n",
       "Q 372 3047 722 3315 \n",
       "Q 1072 3584 1716 3584 \n",
       "Q 2034 3584 2315 3537 \n",
       "Q 2597 3491 2834 3397 \n",
       "z\n",
       "\" transform=\"scale(0.015625)\"/>\n",
       "       <path id=\"DejaVuSans-20\" transform=\"scale(0.015625)\"/>\n",
       "       <path id=\"DejaVuSans-72\" d=\"M 2631 2963 \n",
       "Q 2534 3019 2420 3045 \n",
       "Q 2306 3072 2169 3072 \n",
       "Q 1681 3072 1420 2755 \n",
       "Q 1159 2438 1159 1844 \n",
       "L 1159 0 \n",
       "L 581 0 \n",
       "L 581 3500 \n",
       "L 1159 3500 \n",
       "L 1159 2956 \n",
       "Q 1341 3275 1631 3429 \n",
       "Q 1922 3584 2338 3584 \n",
       "Q 2397 3584 2469 3576 \n",
       "Q 2541 3569 2628 3553 \n",
       "L 2631 2963 \n",
       "z\n",
       "\" transform=\"scale(0.015625)\"/>\n",
       "      </defs>\n",
       "      <use xlink:href=\"#DejaVuSans-63\"/>\n",
       "      <use xlink:href=\"#DejaVuSans-6c\" x=\"54.980469\"/>\n",
       "      <use xlink:href=\"#DejaVuSans-61\" x=\"82.763672\"/>\n",
       "      <use xlink:href=\"#DejaVuSans-73\" x=\"144.042969\"/>\n",
       "      <use xlink:href=\"#DejaVuSans-73\" x=\"196.142578\"/>\n",
       "      <use xlink:href=\"#DejaVuSans-20\" x=\"248.242188\"/>\n",
       "      <use xlink:href=\"#DejaVuSans-65\" x=\"280.029297\"/>\n",
       "      <use xlink:href=\"#DejaVuSans-72\" x=\"341.552734\"/>\n",
       "      <use xlink:href=\"#DejaVuSans-72\" x=\"380.916016\"/>\n",
       "      <use xlink:href=\"#DejaVuSans-6f\" x=\"419.779297\"/>\n",
       "      <use xlink:href=\"#DejaVuSans-72\" x=\"480.960938\"/>\n",
       "     </g>\n",
       "    </g>\n",
       "    <g id=\"line2d_20\">\n",
       "     <path d=\"M 148.921875 34.976562 \n",
       "L 158.921875 34.976562 \n",
       "L 168.921875 34.976562 \n",
       "\" style=\"fill: none; stroke-dasharray: 5.55,2.4; stroke-dashoffset: 0; stroke: #bf00bf; stroke-width: 1.5\"/>\n",
       "    </g>\n",
       "    <g id=\"text_11\">\n",
       "     <!-- bbox mae -->\n",
       "     <g transform=\"translate(176.921875 38.476562) scale(0.1 -0.1)\">\n",
       "      <defs>\n",
       "       <path id=\"DejaVuSans-62\" d=\"M 3116 1747 \n",
       "Q 3116 2381 2855 2742 \n",
       "Q 2594 3103 2138 3103 \n",
       "Q 1681 3103 1420 2742 \n",
       "Q 1159 2381 1159 1747 \n",
       "Q 1159 1113 1420 752 \n",
       "Q 1681 391 2138 391 \n",
       "Q 2594 391 2855 752 \n",
       "Q 3116 1113 3116 1747 \n",
       "z\n",
       "M 1159 2969 \n",
       "Q 1341 3281 1617 3432 \n",
       "Q 1894 3584 2278 3584 \n",
       "Q 2916 3584 3314 3078 \n",
       "Q 3713 2572 3713 1747 \n",
       "Q 3713 922 3314 415 \n",
       "Q 2916 -91 2278 -91 \n",
       "Q 1894 -91 1617 61 \n",
       "Q 1341 213 1159 525 \n",
       "L 1159 0 \n",
       "L 581 0 \n",
       "L 581 4863 \n",
       "L 1159 4863 \n",
       "L 1159 2969 \n",
       "z\n",
       "\" transform=\"scale(0.015625)\"/>\n",
       "       <path id=\"DejaVuSans-78\" d=\"M 3513 3500 \n",
       "L 2247 1797 \n",
       "L 3578 0 \n",
       "L 2900 0 \n",
       "L 1881 1375 \n",
       "L 863 0 \n",
       "L 184 0 \n",
       "L 1544 1831 \n",
       "L 300 3500 \n",
       "L 978 3500 \n",
       "L 1906 2253 \n",
       "L 2834 3500 \n",
       "L 3513 3500 \n",
       "z\n",
       "\" transform=\"scale(0.015625)\"/>\n",
       "       <path id=\"DejaVuSans-6d\" d=\"M 3328 2828 \n",
       "Q 3544 3216 3844 3400 \n",
       "Q 4144 3584 4550 3584 \n",
       "Q 5097 3584 5394 3201 \n",
       "Q 5691 2819 5691 2113 \n",
       "L 5691 0 \n",
       "L 5113 0 \n",
       "L 5113 2094 \n",
       "Q 5113 2597 4934 2840 \n",
       "Q 4756 3084 4391 3084 \n",
       "Q 3944 3084 3684 2787 \n",
       "Q 3425 2491 3425 1978 \n",
       "L 3425 0 \n",
       "L 2847 0 \n",
       "L 2847 2094 \n",
       "Q 2847 2600 2669 2842 \n",
       "Q 2491 3084 2119 3084 \n",
       "Q 1678 3084 1418 2786 \n",
       "Q 1159 2488 1159 1978 \n",
       "L 1159 0 \n",
       "L 581 0 \n",
       "L 581 3500 \n",
       "L 1159 3500 \n",
       "L 1159 2956 \n",
       "Q 1356 3278 1631 3431 \n",
       "Q 1906 3584 2284 3584 \n",
       "Q 2666 3584 2933 3390 \n",
       "Q 3200 3197 3328 2828 \n",
       "z\n",
       "\" transform=\"scale(0.015625)\"/>\n",
       "      </defs>\n",
       "      <use xlink:href=\"#DejaVuSans-62\"/>\n",
       "      <use xlink:href=\"#DejaVuSans-62\" x=\"63.476562\"/>\n",
       "      <use xlink:href=\"#DejaVuSans-6f\" x=\"126.953125\"/>\n",
       "      <use xlink:href=\"#DejaVuSans-78\" x=\"185.009766\"/>\n",
       "      <use xlink:href=\"#DejaVuSans-20\" x=\"244.189453\"/>\n",
       "      <use xlink:href=\"#DejaVuSans-6d\" x=\"275.976562\"/>\n",
       "      <use xlink:href=\"#DejaVuSans-61\" x=\"373.388672\"/>\n",
       "      <use xlink:href=\"#DejaVuSans-65\" x=\"434.667969\"/>\n",
       "     </g>\n",
       "    </g>\n",
       "   </g>\n",
       "  </g>\n",
       " </g>\n",
       " <defs>\n",
       "  <clipPath id=\"p598dbccb40\">\n",
       "   <rect x=\"42.828125\" y=\"7.2\" width=\"195.3\" height=\"138.6\"/>\n",
       "  </clipPath>\n",
       " </defs>\n",
       "</svg>\n"
      ],
      "text/plain": [
       "<Figure size 350x250 with 1 Axes>"
      ]
     },
     "metadata": {},
     "output_type": "display_data"
    }
   ],
   "source": [
    "num_epochs, timer = 20, d2l.Timer()\n",
    "animator = d2l.Animator(xlabel='epoch', xlim=[1, num_epochs],\n",
    "                        legend=['class error', 'bbox mae'])\n",
    "net = net.to(device)\n",
    "for epoch in range(num_epochs):\n",
    "    # Sum of training accuracy, no. of examples in sum of training accuracy,\n",
    "    # Sum of absolute error, no. of examples in sum of absolute error\n",
    "    metric = d2l.Accumulator(4)\n",
    "    net.train()\n",
    "    for features, target in train_iter:\n",
    "        timer.start()\n",
    "        trainer.zero_grad()\n",
    "        X, Y = features.to(device), target.to(device)\n",
    "        # Generate multiscale anchor boxes and predict their classes and\n",
    "        # offsets\n",
    "        anchors, cls_preds, bbox_preds = net(X)\n",
    "        # Label the classes and offsets of these anchor boxes\n",
    "        bbox_labels, bbox_masks, cls_labels = d2l.multibox_target(anchors, Y)\n",
    "        # Calculate the loss function using the predicted and labeled values\n",
    "        # of the classes and offsets\n",
    "        l = calc_loss(cls_preds, cls_labels, bbox_preds, bbox_labels,\n",
    "                      bbox_masks)\n",
    "        l.mean().backward()\n",
    "        trainer.step()\n",
    "        metric.add(cls_eval(cls_preds, cls_labels), cls_labels.numel(),\n",
    "                   bbox_eval(bbox_preds, bbox_labels, bbox_masks),\n",
    "                   bbox_labels.numel())\n",
    "    cls_err, bbox_mae = 1 - metric[0] / metric[1], metric[2] / metric[3]\n",
    "    animator.add(epoch + 1, (cls_err, bbox_mae))\n",
    "print(f'class err {cls_err:.2e}, bbox mae {bbox_mae:.2e}')\n",
    "print(f'{len(train_iter.dataset) / timer.stop():.1f} examples/sec on '\n",
    "      f'{str(device)}')"
   ]
  },
  {
   "cell_type": "markdown",
   "id": "4adceca0",
   "metadata": {
    "origin_pos": 51
   },
   "source": [
    "## **Prediction**\n",
    "\n",
    "During prediction,\n",
    "the goal is to detect all the objects of interest\n",
    "on the image.\n",
    "Below\n",
    "we read and resize a test image,\n",
    "converting it to\n",
    "a four-dimensional tensor that is\n",
    "required by convolutional layers.\n"
   ]
  },
  {
   "cell_type": "code",
   "execution_count": null,
   "id": "339946e8",
   "metadata": {
    "origin_pos": 53,
    "tab": [
     "pytorch"
    ]
   },
   "outputs": [],
   "source": [
    "!test -f banana.jpg || wget -O banana.jpg https://github.com/d2l-ai/d2l-en/blob/master/img/banana.jpg?raw=true\n",
    "X = torchvision.io.read_image('banana.jpg').unsqueeze(0).float()\n",
    "img = X.squeeze(0).permute(1, 2, 0).long()\n",
    "d2l.plt.imshow(img)"
   ]
  },
  {
   "cell_type": "markdown",
   "id": "b9d6143d",
   "metadata": {
    "origin_pos": 54
   },
   "source": [
    "Using the `multibox_detection` function below,\n",
    "the predicted bounding boxes\n",
    "are obtained\n",
    "from the anchor boxes and their predicted offsets.\n",
    "Then non-maximum suppression is used\n",
    "to remove similar predicted bounding boxes.\n",
    "\n",
    "Note that we need to apply a `softmax` layer on the class predictions to extract probabilities that we can feed into the `multibox_detection` function."
   ]
  },
  {
   "cell_type": "markdown",
   "id": "9d3342f4",
   "metadata": {},
   "source": [
    "### Your turn\n",
    "> Complete the code of the `predict()` function below to properly chain the output of the network to the `multibox_detection` function."
   ]
  },
  {
   "cell_type": "code",
   "execution_count": null,
   "id": "d04db2f1",
   "metadata": {
    "origin_pos": 56,
    "tab": [
     "pytorch"
    ]
   },
   "outputs": [],
   "source": [
    "def predict(X):\n",
    "    net.eval()\n",
    "    ????, ????, ???? = net(X.to(device))\n",
    "    cls_probs = F.softmax(cls_preds, dim=2).permute(0, 2, 1)\n",
    "    output = d2l.multibox_detection(?????)\n",
    "    idx = [i for i, row in enumerate(output[0]) if row[0] != -1]\n",
    "    return output[0, idx]\n",
    "\n",
    "output = predict(X)\n",
    "output[...,:10,:]"
   ]
  },
  {
   "cell_type": "code",
   "execution_count": null,
   "id": "04e342fa",
   "metadata": {
    "tags": [
     "TEACHER"
    ]
   },
   "outputs": [],
   "source": [
    "# TEACHER\n",
    "def predict(X):\n",
    "    net.eval()\n",
    "    anchors, cls_preds, bbox_preds = net(X.to(device))\n",
    "    cls_probs = F.softmax(cls_preds, dim=2).permute(0, 2, 1)\n",
    "    output = d2l.multibox_detection(cls_probs, bbox_preds, anchors)\n",
    "    idx = [i for i, row in enumerate(output[0]) if row[0] != -1]\n",
    "    return output[0, idx]\n",
    "\n",
    "output = predict(X)\n",
    "output[...,:10,:]"
   ]
  },
  {
   "cell_type": "markdown",
   "id": "eca747f5",
   "metadata": {
    "origin_pos": 57
   },
   "source": [
    "Finally, we **display\n",
    "all the predicted bounding boxes with\n",
    "confidence 0.9 or above**\n",
    "as output.\n"
   ]
  },
  {
   "cell_type": "code",
   "execution_count": null,
   "id": "e4cdc5e5",
   "metadata": {
    "origin_pos": 59,
    "tab": [
     "pytorch"
    ]
   },
   "outputs": [],
   "source": [
    "def display(img, output, threshold):\n",
    "    d2l.set_figsize((5, 5))\n",
    "    fig = d2l.plt.imshow(img)\n",
    "    for row in output:\n",
    "        score = float(row[1])\n",
    "        if score < threshold:\n",
    "            continue\n",
    "        h, w = img.shape[:2]\n",
    "        bbox = [row[2:6] * torch.tensor((w, h, w, h), device=row.device)]\n",
    "        d2l.show_bboxes(fig.axes, bbox, '%.2f' % score, 'r')\n",
    "\n",
    "display(img, output.cpu(), threshold=0.3)"
   ]
  },
  {
   "cell_type": "markdown",
   "id": "41d6cb3d",
   "metadata": {
    "origin_pos": 60
   },
   "source": [
    "## Summary\n",
    "\n",
    "* Single shot multibox detection is a multiscale object detection model. Via its base network and several multiscale feature map blocks, single-shot multibox detection generates a varying number of anchor boxes with different sizes, and detects varying-size objects by predicting classes and offsets of these anchor boxes (thus the bounding boxes).\n",
    "* When training the single-shot multibox detection model, the loss function is calculated based on the predicted and labeled values of the anchor box classes and offsets.\n",
    "\n",
    "\n",
    "\n",
    "## Improvements\n",
    "\n",
    "Can you improve the single-shot multibox detection by improving the loss function? For example, replace $\\ell_1$ norm loss with smooth $\\ell_1$ norm loss for the predicted offsets. This loss function uses a square function around zero for smoothness, which is controlled by the hyperparameter $\\sigma$:\n",
    "\n",
    "$$\n",
    "f(x) =\n",
    "    \\begin{cases}\n",
    "    (\\sigma x)^2/2,& \\textrm{if }|x| < 1/\\sigma^2\\\\\n",
    "    |x|-0.5/\\sigma^2,& \\textrm{otherwise}\n",
    "    \\end{cases}\n",
    "$$\n",
    "\n",
    "When $\\sigma$ is very large, this loss is similar to the $\\ell_1$ norm loss. When its value is smaller, the loss function is smoother.\n"
   ]
  },
  {
   "cell_type": "code",
   "execution_count": null,
   "id": "eaf2bcfb",
   "metadata": {
    "origin_pos": 62,
    "tab": [
     "pytorch"
    ]
   },
   "outputs": [],
   "source": [
    "def smooth_l1(data, scalar):\n",
    "    out = []\n",
    "    for i in data:\n",
    "        if abs(i) < 1 / (scalar ** 2):\n",
    "            out.append(((scalar * i) ** 2) / 2)\n",
    "        else:\n",
    "            out.append(abs(i) - 0.5 / (scalar ** 2))\n",
    "    return torch.tensor(out)\n",
    "\n",
    "sigmas = [10, 1, 0.5]\n",
    "lines = ['-', '--', '-.']\n",
    "x = torch.arange(-2, 2, 0.1)\n",
    "d2l.set_figsize()\n",
    "\n",
    "for l, s in zip(lines, sigmas):\n",
    "    y = smooth_l1(x, scalar=s)\n",
    "    d2l.plt.plot(x, y, l, label='sigma=%.1f' % s)\n",
    "d2l.plt.legend();"
   ]
  },
  {
   "cell_type": "markdown",
   "id": "83de4871",
   "metadata": {
    "origin_pos": 63
   },
   "source": [
    "Besides, in the experiment we used cross-entropy loss for class prediction:\n",
    "denoting by $p_j$ the predicted probability for the ground-truth class $j$, the cross-entropy loss is $-\\log p_j$. We can also use the [focal loss](https://openaccess.thecvf.com/content_iccv_2017/html/Lin_Focal_Loss_for_ICCV_2017_paper.html): given hyperparameters $\\gamma > 0$\n",
    "and $\\alpha > 0$, this loss is defined as:\n",
    "\n",
    "$$ - \\alpha (1-p_j)^{\\gamma} \\log p_j.$$\n",
    "\n",
    "As we can see, increasing $\\gamma$\n",
    "can effectively reduce the relative loss\n",
    "for well-classified examples (e.g., $p_j > 0.5$)\n",
    "so the training\n",
    "can focus more on those difficult examples that are misclassified.\n"
   ]
  },
  {
   "cell_type": "code",
   "execution_count": null,
   "id": "90122fd8",
   "metadata": {
    "origin_pos": 65,
    "tab": [
     "pytorch"
    ]
   },
   "outputs": [],
   "source": [
    "def focal_loss(gamma, x):\n",
    "    return -(1 - x) ** gamma * torch.log(x)\n",
    "\n",
    "x = torch.arange(0.01, 1, 0.01)\n",
    "for l, gamma in zip(lines, [0, 1, 5]):\n",
    "    y = d2l.plt.plot(x, focal_loss(gamma, x), l, label='gamma=%.1f' % gamma)\n",
    "d2l.plt.legend();"
   ]
  },
  {
   "cell_type": "code",
   "execution_count": null,
   "id": "2dbe02eb",
   "metadata": {},
   "outputs": [],
   "source": []
  }
 ],
 "metadata": {
  "kernelspec": {
   "display_name": "Python 3 (ipykernel)",
   "language": "python",
   "name": "python3"
  },
  "language_info": {
   "codemirror_mode": {
    "name": "ipython",
    "version": 3
   },
   "file_extension": ".py",
   "mimetype": "text/x-python",
   "name": "python",
   "nbconvert_exporter": "python",
   "pygments_lexer": "ipython3",
   "version": "3.10.12"
  },
  "required_libs": []
 },
 "nbformat": 4,
 "nbformat_minor": 5
}
